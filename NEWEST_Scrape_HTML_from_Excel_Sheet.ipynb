{
  "nbformat": 4,
  "nbformat_minor": 0,
  "metadata": {
    "colab": {
      "provenance": [],
      "include_colab_link": true
    },
    "kernelspec": {
      "name": "python3",
      "display_name": "Python 3"
    },
    "language_info": {
      "name": "python"
    }
  },
  "cells": [
    {
      "cell_type": "markdown",
      "metadata": {
        "id": "view-in-github",
        "colab_type": "text"
      },
      "source": [
        "<a href=\"https://colab.research.google.com/github/juliusritter/co2/blob/main/NEWEST_Scrape_HTML_from_Excel_Sheet.ipynb\" target=\"_parent\"><img src=\"https://colab.research.google.com/assets/colab-badge.svg\" alt=\"Open In Colab\"/></a>"
      ]
    },
    {
      "cell_type": "code",
      "source": [
        "import requests\n",
        "import re\n",
        "from bs4 import BeautifulSoup\n",
        "import pandas as pd"
      ],
      "metadata": {
        "id": "MovUxHdr5ZJa"
      },
      "execution_count": null,
      "outputs": []
    },
    {
      "cell_type": "code",
      "source": [
        "from pyparsing.helpers import List\n",
        "\n",
        "file = \"hs_ca_1.xlsx\"\n",
        "file_small = \"hs_ca_1_small.xlsx\"\n",
        "\n",
        "df_og = pd.read_excel(file)\n",
        "# Creating a copy with the most important columns\n",
        "df = df_og.iloc[: , [6, 9, 13, 18, 19, 20,]].copy()\n",
        "# df.head(1)\n",
        "# as list:\n",
        "series_names = df[\"School Name\"]\n",
        "\n",
        "# https://sparkbyexamples.com/pandas/convert-pandas-series-to-list/#:~:text=tolist()%20method%20is%20used,and%20dictionary%20into%20a%20Series.\n",
        "list_names = list(series_names)\n",
        "print(list_names)\n",
        "len(list_names)"
      ],
      "metadata": {
        "colab": {
          "base_uri": "https://localhost:8080/"
        },
        "id": "MI-r9jie5zp_",
        "outputId": "7ee84561-de4d-49ff-e8ed-bffa2cf72c5b"
      },
      "execution_count": null,
      "outputs": [
        {
          "output_type": "stream",
          "name": "stdout",
          "text": [
            "['Abraham Lincoln Continuation', 'Abraham Lincoln High', 'Abraham Lincoln Senior High', 'Abraxas Continuation High', 'Academies of Education and Empowerment at Carson High', 'Academy (The)- SF @McAteer', 'Academy of Innovation', 'Academy of Medical Arts at Carson High', 'Academy of the Canyons', 'Academy of the Redwoods', 'Acalanes Center for Independent Study', 'Acalanes High', 'Accelerated Charter High', 'ACE Charter High', 'Achieve Charter High', 'Adelante High', 'Adelante High (Continuation)', 'Adelanto High', 'Adolfo Camarillo High', 'Adrian Wilcox High', 'Agoura High', 'Ahwahnee High', 'AIMS College Prep High', 'Alain Leroy Locke College Preparatory Academy', 'Alameda High', 'Alameda Science and Technology Institute', 'Albany High', 'Albert Einstein Continuation', 'Alessandro High', 'Alexander Hamilton Senior High', 'Alfonso B. Perez Special Education Center', 'Alhambra High', 'Alhambra Senior High', 'Alisal High', 'Aliso Niguel High', 'Alliance Cindy and Bill Simon Technology Academy High', 'Alliance Collins Family College-Ready High', 'Alliance Dr. Olga Mohan High', 'Alliance Judy Ivie Burton Technology Academy High', 'Alliance Leichtman-Levine Family Foundation Env Sci High', 'Alliance Marc & Eva Stern Math and Science', 'Alliance Margaret M. Bloomfield Technology Academy High', 'Alliance Morgan McKinzie High', 'Alliance Patti And Peter Neuwirth Leadership Academy', 'Alliance Piera Barbaglia Shaheen Health Services Academy', 'Alliance Renee and Meyer Luskin Academy High', 'Alliance Susan and Eric Smidt Technology High', 'Alliance Ted K. Tajima High', 'Alliance Tennenbaum Family Technology High', 'Almanor High (Continuation)', 'Alpaugh -Senior High', 'Alpha Cindy Avitia High', 'Alps View High (Continuation)', 'Alta Loma High', 'Alta Vista Alternative High', 'Alta Vista High', 'Alta Vista High (Continuation)', 'Alternative Learning Academy at Conley-Caraballo High', 'Alternatives in Action', 'Alvord Alternative Continuation High', 'Alvord Continuation High', 'Amador High', 'Amador Valley High', 'Amelia Earhart Continuation', 'American Canyon High', 'American High', 'American Legion High (Continuation)', 'Amistad High (Continuation)', 'Anaheim High', 'Anderson High', 'Anderson New Technology High', 'Anderson W. Clark Magnet High', 'Andrew P. Hill High', \"Angel's Gate (Continuation)\", 'Angelo Rodriguez High', 'Animo City of Champions Charter High', 'Animo Inglewood Charter High', 'Animo Jackie Robinson High', 'Animo Leadership High', 'Animo Pat Brown', 'Animo Ralph Bunche Charter High', 'Animo South Los Angeles Charter', 'Animo Venice Charter High', 'Animo Watts College Preparatory Academy', 'Ann Sobrato High', 'Antelope High', 'Antelope Valley High', 'Antelope Valley ROP', 'Antioch High', 'Anzar High', 'Apollo High', 'Apple Valley High', 'Applied Technology Center', 'Aptos High', 'Aragon High', 'Arbuckle Alternative High (Continuation)', 'Arcadia High', 'Arcata High', 'Archie Williams High', 'Architecture Construction & Engineering Charter High (ACE)', 'Arena High (Continuation)', 'Argonaut High', 'Argus High (Continuation)', 'ARISE High', 'Arleta High', 'Arlington High', 'Armijo High', 'Arnold O. Beckman High', 'Arrow High (Continuation)', 'Arroyo Grande High', 'Arroyo High', 'Arroyo High', 'Arroyo Valley High', 'Artesia High', 'Arthur A. Benjamin Health Professions High', 'Arvin High', 'Asawa (Ruth) SF Sch of the Arts A Public School', 'Aspire Benjamin Holt College Preparatory Academy', 'Atascadero High', 'Atwater High', 'Augustus F. Hawkins High A Critical Design and Gaming', 'Aurora High (Continuation)', 'Avenal High', 'Azusa High', 'B. Roberto Cruz Leadership Academy', 'Back Bay High', 'Baden High (Continuation)', 'Baker High', 'Bakersfield High', 'Balboa High', 'Baldwin Park High', 'Baldy View ROP', 'Banning High', 'Barstow High', 'Bassett Senior High', 'Bear Creek High', 'Bear River High', 'Beaumont Senior High', 'Beckwourth (Jim) High (Continuation)', 'Bell Gardens High', 'Bell Senior High', 'Bella Vista High', 'Belmont Senior High', 'Benicia High', 'Berkeley High', 'Bert Corona Charter High', 'Beverly Hills High', 'Bidwell Point High (Continuation)', 'Big Bear High', 'Big Pine High', 'Biggs High', 'Bill M. Manes High', 'Birmingham Community Charter High', 'Bishop Independent Study', 'Bishop Union High', 'Bitney Prep High', 'Black Diamond High (Continuation)', 'Black Rock Alternative/Continuation', 'Bloomington High', 'Bolsa Grande High', 'Bonita High', 'Bonita Vista Senior High', 'Bonsall High', 'Borrego Springs High', 'Bowman (Jereann) High (Continuation)', 'Boyle Heights Continuation', 'Boyle Heights Sci Tech Engr and Math Magnet', 'Boynton High', 'Boys Republic High', 'Branham High', 'Bravo Lake High', 'Brawley Union High', 'Brea Canyon High (Continuation)', 'Brea Olinda High', 'Brenkwitz High', 'Bret Harte Union High', 'Bridgepoint High (Continuation)', 'Bright Star Secondary Charter Academy', 'Broadway High', 'Buchanan High', 'Buckingham Collegiate Charter Academy', 'Buena High', 'Buena Park High', 'Buena Vista Continuation High', 'Buena Vista High', 'Buena Vista High', 'Buena Vista High (Continuation)', 'Buhach Colony High', 'Bullard High', 'Burbank High', 'Burlingame High', 'Burroughs High', 'Burroughs High', 'Burton (Phillip and Sala) Academic High', 'Butte County ROP', 'Butte Valley High', 'Butte View High', 'C. K. McClatchy High', 'CA Advancing Pathways for Students in Los Angeles Co', 'Cabrillo High', 'Cabrillo High', 'Cache Creek High (Continuation)', 'Cajon High', 'Cal Burke High', 'Calabasas High', 'Calaveras Hills', 'Calexico High', 'California Academy of Mathematics and Science', 'California City High', 'California Heritage Youthbuild Academy II', 'California High', 'California High', 'California Preparatory Academy', 'California School of the Arts - San Gabriel Valley', 'Calipatria High', 'Calla High', 'Calvine High', 'Cambridge Continuation High', 'Cambridge High', 'Camino Nuevo High #2', 'Campbell High Community Day', 'Campo High (Continuation)', 'Campolindo High', 'Canoga Park Senior High', 'Canyon Crest Academy', 'Canyon High', 'Canyon High', 'Canyon Hills High', 'Canyon Oaks High', 'Canyon Ridge High', 'Canyon Springs High', 'Capistrano Union High', 'Capistrano Valley High', 'Captain John Continuation High', 'Capuchino High', 'Career Technical Education Charter', 'Carle (William C.) High (Continuation)', 'Carlmont High', 'Carlsbad High', 'Carmel High', 'Carmel Valley High', 'Carpe Diem High (Continuation)', 'Carpinteria Senior High', 'Carson Senior High', 'Caruthers High', 'Casa Grande High', 'Casa Roble Fundamental High', 'Cascade High', 'Casterlin High', 'Castle Park Senior High', 'Castlemont High', 'Castro Valley High', 'CATCH Prep Charter High Inc.', 'Cathedral City High', 'CDS Bishop High', 'Centennial Continuation High', 'Centennial High', 'Centennial High', 'Centennial High', 'Center High', 'Centerville High (Continuation)', 'Centinela Valley Independent Study', 'Central Bay High (Continuation)', 'Central City Value', 'Central Coast High', 'Central Coast New Tech High', 'Central East High', 'Central High', 'Central High', 'Central High (Continuation)', 'Central Union High', 'Central Union Virtual Academy', 'Central Valley High', 'Central Valley High', 'Central Valley High (Continuation)', 'Century High', 'Century High', 'Ceres High', 'Cerritos High', 'Cesar Chavez Continuation High', 'Cesar Chavez High', 'Cesar E. Chavez High', 'Cesar E. Chavez High', 'Cesar E. Chavez Lrng Acads-Acad of Scientific Explr (ASE)', 'Cesar E. Chavez Lrng Acads-Arts/Theatre/Entertain Mag', 'Cesar E. Chavez Lrng Acads-Soc Just Humanitas Acad', 'Cesar E. Chavez Lrng Acads-Tech Prep Acad', 'Chaffey Community Day', 'Chaffey District Online High', 'Chaffey High', 'CHAMPS - Charter HS of Arts-Multimedia & Performing', 'Channel Islands High', 'Chaparral High', 'Chaparral High', 'Chaparral High', 'Chaparral High', 'Chaparral High (Continuation)', 'Charter Oak High', 'Chatsworth Charter High', 'Chesnut High (Continuation)', 'Cheviot Hills Continuation', 'Chico High', 'Chino High', 'Chino Hills High', 'Chowchilla Union High', 'Christopher High', 'Chula Vista Senior High', 'Citrus High', 'Citrus Hill High', 'Citrus Valley High', 'City Arts and Tech High', 'City Honors International Preparatory High', 'Clairemont High', 'Claremont High', 'Classical Academy High', 'Clayton Valley Charter High', 'Clear Lake High', 'Clear Passage Educational Center', 'Clover Valley High (Continuation)', 'Cloverdale High', 'Clovis East High', 'Clovis High', 'Clovis North High', 'Clovis West High', 'Coachella Valley High', 'Coalinga High', 'Coast High', 'Coast Union High', 'Coastline ROP', 'Cold Springs High', 'Coleville High', 'Colfax High', 'College and Career Preparatory Academy', 'College Bridge Academy', 'College Park High', 'Collegiate Charter High School of Los Angeles', 'Colony Basic Skills Alternative High', 'Colony High', 'Colton High', 'Colton-Redlands-Yucaipa ROP', 'Colusa Alternative High (Continuation)', 'Colusa High', 'Come Back Butte Charter', 'Come Back Charter', 'Come Back Kids', 'Communication and Tech at Diego Rivera Lrng Complex', 'Community Day', 'Community High (Continuation)', 'Compton Community Day High', 'Compton Early College High', 'Compton High', 'Compton Unified ROP', 'Concord High', 'Condor High', 'Conejo Valley High (Continuation)', 'Contra Costa County ROP', 'Contreras Learning Center-Academic Leadership Community', 'Contreras Learning Center-School of Social Justice', 'Contreras Lrng Center-Los Angeles Sch of Global Studies', 'Corcoran High', 'Cordova High', 'Core Learning Academy at Conley-Caraballo High', 'Corning High', 'Corning Independent Study', 'Corona High', 'Corona Vista High', 'Coronado High', 'Coronado High (Continuation)', 'Costanoa Continuation High', 'Cosumnes Oaks High', 'Coulterville High', 'Countryside Community Day', 'Covina High', 'Crawford High', 'Credence High', 'Credo High', 'Creekside High', 'Creekside High', 'Crenshaw Sci Tech Engr Math and Med Magnet', 'Crescenta Valley High', 'Culver City High', 'Cupertino High', 'Cuyama Valley High', 'Cypress High', 'Da Vinci Communications', 'Da Vinci Design', 'Da Vinci RISE High', 'Da Vinci Science', 'Daily (Allan F.) High (Continuation)', 'Dan M. Issacs Avalon High', 'Dana Hills High', 'Daniel Pearl Journalism & Communications Magnet', 'Daylor (William) High (Continuation)', 'De Anza High', 'Deep Creek Academy', 'Deer Valley High', 'Del Campo High', 'Del Lago Academy - Campus of Applied Science', 'Del Mar High', 'Del Norte County ROP', 'Del Norte High', 'Del Norte High', 'Del Oro High', 'Del Puerto High', 'Delano High', 'Delhi High', 'Delta Charter', 'Delta High', 'Denair High', 'Desert Hot Springs High', 'Desert Mirage High', 'Desert Oasis High (Continuation)', 'Desert Sands Charter', 'Desert Valley High (Continuation)', 'Desert Winds Continuation High', 'Design Science Middle College High', 'Design Tech High', 'Dewey Academy High', 'Diamond Bar High', 'Diamond Ranch High', 'Diamond Technology Institute', 'Dickens (Billy Joe) High (Continuation)', 'Diego Rivera Learning Complex Green Design STEAM Academy', 'Dinuba High', 'Discovery Charter Preparatory #2', 'Discovery High', 'Discovery High', 'Divide High', 'Dixon High', 'Dominguez High', 'Don Antonio Lugo High', 'Don Pedro High', 'Dorothy V. Johnson Community Day', 'Dos Palos High', 'Dos Pueblos Senior High', 'Dougherty Valley High', 'Downey High', 'Downtown Business High', 'Downtown College Preparatory', 'Downtown High', 'Dozier-Libbey Medical High', 'Dr. Doug Sears Learning Center', 'Dr. John H. Milor Continuation High', 'Dr. Maya Angelou Community High', 'Dr. Richard A. Vladovic Harbor Teacher Preparation Academy', 'Dr. TJ Owens Gilroy Early College Academy', 'Duarte High', 'Dublin High', 'Dunsmuir High', 'Dunsmuir Joint Union High Community Day', 'Durham High', 'E. Los Angeles Renaiss Acad at Esteban E. Torres High #2', 'e3 Civic High', 'Eagle Canyon High', 'Eagle Tree Continuation', 'Earl F. Johnson High (Continuation)', 'Early College Academy-LA Trade Tech College', 'Early College High', 'East Bakersfield High', 'East Bay Arts High', 'East Nicolaus High', 'East Palo Alto Academy', 'East Stanislaus High', 'East Union High', 'East Valley Senior High', 'East Village Middle College High', 'Eastlake High', 'Easton Community Day', 'Easton Continuation High', 'Eastside High', 'Ed Donaldson Education Center', 'Edgewood High', 'Edison High', 'Edison High', 'Edison High', 'Ednovate - Brio College Prep', 'Ednovate - East College Prep', 'Ednovate - Esperanza College Prep', 'Ednovate - Legacy College Prep.', 'Ednovate - South LA College Prep', 'Ednovate - USC Hybrid High College Prep', 'Educational Partnership High', 'Educational Training Center', 'Edward C. Merlo Institute of Environmental Studies', 'Edward P. Duplex', 'Edward R. Roybal Learning Center', 'Eisenhower High', 'El Cajon Valley High', 'El Camino Fundamental High', 'El Camino High', 'El Camino High', 'El Camino High', 'El Camino High', 'El Camino High (Continuation)', 'El Camino Real Charter High', 'El Camino Real Continuation High', 'El Capitan High', 'El Capitan High', 'El Cerrito High', 'El Diamante High', 'El Dorado High', 'El Dorado High', 'El Modena High', 'El Monte High', 'El Monte Union High School Community Day', 'El Puente High', 'El Rancho High', 'El Segundo High', 'El Sereno Alternative Education', 'El Toro High', 'Eleanor Roosevelt High', 'Elite Academy', 'Elk Creek High', 'Elk Grove High', 'Ellen Ochoa Prep Academy', 'Ellington (Duke) High (Continuation)', 'Elm High', 'Elsie Allen High', 'Elsinore High', 'Emery Secondary', 'Empower Generations', 'Encina Preparatory High', 'Engr and Tech Acad at Esteban E. Torres High #3', 'Enterprise High', 'Entrepreneur High', 'Entrepreneur High Fontana', 'Environmental Charter High - Gardena', 'Environmental Charter High - Lawndale', 'EPIC de Cesar Chavez', 'Erma Duncan Polytechnical High', 'Ernest Righetti High', 'Ernest S. McBride Sr. High', 'Escalon High', 'Escondido Charter High', 'Escondido High', 'Escuela Popular/Center for Training and Careers Family Lrng', 'Esparto High', 'Esperanza High', 'Esperanza High (Continuation)', 'Estancia High', 'Esteban Torres East LA Performing Arts Magnet', 'Estrellita Continuation High', 'Etiwanda High', 'Etna Union High', 'Eunice Sato Academy of Math & Science', 'Eureka Senior High', 'Everest Public High', 'Everett Alvarez High', 'Evergreen Continuation', 'Evergreen High', 'Evergreen Valley High', 'Exeter Union High', 'Fair View High (Continuation)', 'Fairfax Senior High', 'Fairfield High', 'Fairvalley High (Continuation)', 'Fallbrook High', 'Family First Charter', 'Farmersville High', 'Felicitas and Gonzalo Mendez High', 'Ferndale High', 'Fillmore Senior High', 'Firebaugh High', \"Five Keys Adult School (SF Sheriff's)\", \"Five Keys Charter (SF Sheriff's)\", \"Five Keys Independence HS (SF Sheriff's)\", 'Florence E. Rata', 'Florin High', 'Folsom High', 'Folsom Lake High', 'Fontana A. B. Miller High', 'Fontana High', 'Foothill High', 'Foothill High', 'Foothill High', 'Foothill High', 'Foothill High', 'Foothill Technology High', 'Foothills High', 'Foresthill High', 'Fort Bragg High', 'Fortuna Union High', 'Fountain Valley High', 'Fowler Academy Community Day (9-12)', 'Fowler High', 'Francisco Bravo Medical Magnet High', 'Franklin High', 'Frazier Mountain High', 'Fred C. Beyer High', 'Freedom High', 'Fremont High', 'Fremont High', 'Fresno High', 'Fresno ROP', 'Frida Kahlo High', 'Frontier High', 'Frontier High', 'Frontier High (Continuation)', 'Fullerton Union High', 'Gabrielino High', 'Gahr (Richard) High', 'Galileo High', 'Galt High', 'Ganesha High', 'Garden Grove High', 'Gardena Senior High', 'Garey High', 'Garfield High', 'Gateway College and Career Academy', 'Gateway High', 'Gateway High (Continuation)', 'Gateway High (Continuation)', 'Gateway to College High at Laney College', 'George and Evelyn Stein Continuation', 'George S. Patton Continuation', 'George Washington Carver School of Arts and Science', 'George Washington Preparatory High', 'Gilbert High (Continuation)', 'Gilroy High', 'Glacier High School Charter', 'Gladstone High', 'Glen A. Wilson High', 'Glen View High', 'Glendale High', 'Glendora High', 'Glenn County ROP', 'Gold Strike High', 'Golden Valley High', 'Golden Valley High', 'Golden Valley High', 'Golden West High', 'Gonzales High', 'Goodwill High', 'Grace M. Davis High', 'Granada High', 'Granada High', 'Grand Terrace High Sch at the Ray Abril Jr. Edal Complex', 'Granite Bay High', 'Granite Hills High', 'Granite Hills High', 'Granite Hills High', 'Grant Union High', 'Great Oak High', 'Green Valley High', 'Greenfield High', 'Greenwood Academy', 'Gridley High', 'Griffin Academy High', 'Grossmont High', 'Grover Cleveland Charter High', 'Gunderson High', 'Gustine High', 'Half Moon Bay High', 'Hamilton High', 'Hanford Community Day', 'Hanford High', 'Hanford Online Charter', 'Hanford West High', 'Happy Camp High', 'Harbor High', 'Harmony Magnet Academy', 'Harris Newmark Continuation', 'Hart ROP', 'Harvest High', 'Hawthorne High', 'Hawthorne Math and Science Academy', 'Hayfork High', 'Hayward High', 'Healdsburg High', 'Health Careers Academy', 'Health Sciences High and Middle College', 'Hector G. Godinez', 'Helen Bernstein High', 'Helix High', 'Hemet High', 'Henry David Thoreau Continuation', 'Henry High', 'Henry J. Kaiser High', 'Henry M. Gunn High', 'Herbert Hoover High', 'Herbert Hoover High', 'Hercules High', 'Heritage High', 'Heritage High', 'Herlong High', 'Hesperia High', 'High Tech High', 'High Tech High Chula Vista', 'High Tech High International', 'High Tech High Media Arts', 'High Tech High Mesa', 'High Tech High North County', 'High Tech LA', 'Highland High', 'Highland High', 'Highland Park Continuation', 'Highlands High', 'Hilda L. Solis Lrng Acad Sch of Tech Business and Ed', 'Hillcrest High', 'Hillsdale High', 'Hilltop Senior High', 'Hillview High (Continuation)', 'Hilmar High', 'Hiram W. Johnson High', 'Hollywood Senior High', 'Holtville High', 'Homestead High', 'Hoopa Valley High', 'Hoover High', 'Horizon High', 'Hueneme High', 'Hughson High', 'Humanitas Acad of Art and Tech at Esteban E. Torres High #4', 'Humanities and Arts (HARTS) Academy of Los Angeles', 'Huntington Beach High', 'Huntington Park Senior High', 'ICEF View Park Preparatory High', 'IDEA Center', 'Imperial Ave. Holbrook High', 'Imperial High', 'Imperial Pathways Charter', 'Imperial Valley ROP', 'Independence Continuation', 'Independence Continuation', 'Independence Continuation High', 'Independence High', 'Independence High', 'Independence High', 'Independence High', 'Independence High', 'Independence High (Alternative)', 'Independence High (Alternative)', 'Independence High (Alternative)', 'Independence High (Continuation)', 'Inderkum High', 'Indian Hills Continuation High', 'Indian Springs High', 'Indio High', 'Inglewood Continuation High', 'Inglewood High', 'Insight School of California', 'Inspire School of Arts and Sciences', 'Intellectual Virtues Academy', 'International Polytechnic High', 'Irvine High', 'Irvington High', 'Irwin High (Continuation)', 'Island High (Continuation)', 'Ivy High (Continuation)', 'Jack London Community Day', 'Jack London Continuation', 'James A. Garfield Senior High', 'James C. Enochs High', 'James Lick High', 'James Logan High', 'James Monroe High', 'Jamison (Donald C.) High (Continuation)', 'Jane Addams Continuation', 'Jane Frederick High', 'Jefferson High', 'Jesse M. Bethel High', 'Johanna Echols-Hansen High (Continuation)', 'John A. Rowland High', 'John C. Fremont Senior High', 'John C. Kimball High', 'John F. Kennedy High', 'John F. Kennedy High', 'John F. Kennedy High', 'John F. Kennedy High', 'John F. Kennedy High', 'John F. Kennedy High', 'John Finney High (Continuation)', 'John H. Francis Polytechnic', 'John H. Glenn High', 'John H. Pitman High', 'John Henry High', 'John Hope Continuation', 'John J. Cairns Continuation', 'John Marshall Senior High', 'John Muir Charter', 'John Muir High', 'John R. Wooden High', 'John Swett High', 'John W. North High', 'Jordan (June) School for Equity', 'Jordan High', 'Jordan High', 'Joseph A. Gregori High', 'Julian High', 'Jurupa Hills High', 'Jurupa Valley High', 'Justin Garza High', 'Katella High', 'Kaweah High', 'Kearny College Connections', 'Kearny Digital Media & Design', 'Kearny Eng Innov & Design', 'Kearny School of Biomedical Science and Technology', 'Kelseyville High', 'Kerman High', 'Kern County ROP', 'Kern High ROC', 'Kern Valley High', 'Kern Workforce 2000 Academy', 'King (Martin Luther) High (Continuation)', 'King City High', 'King-Chavez Community High', 'King/Drew Medical Magnet High', 'Kings Canyon Continuation', 'Kingsburg High', 'Kingsburg Independent Study High', 'Kinney High (Continuation)', 'KIPP Esperanza High', 'KIPP King Collegiate High', 'KIPP Navigate College Prep', 'KIPP San Francisco College Preparatory', 'KIPP San Jose Collegiate', 'L.A. County High School for the Arts', 'La Costa Canyon High', 'La Cuesta Continuation High', 'La Entrada Continuation High', 'La Habra High', 'La Jolla High', 'La Mirada High', 'La Paloma High (Continuation)', 'La Puente High', 'La Quinta High', 'La Quinta High', 'La Serna High', 'La Sierra High', 'La Sierra High (Alternative)', 'La Vista High (Continuation)', 'Laguna Beach High', 'Laguna Creek High', 'Laguna High', 'Laguna Hills High', 'Lake County ROP', 'Lakeside High', 'Lakewood High', 'Lancaster High', 'Las Lomas High', 'Las Plumas High', 'Lassen Community Day', 'Lassen High', 'Lathrop High', 'Latino College Preparatory Academy', 'Latitude 37.8 High', 'Laton High', 'Lawndale High', 'Laytonville Continuation High', 'Laytonville High', 'Le Grand High', 'Leadership High', 'Leadership Military Academy', 'Leadership Public Schools - Hayward', 'Leadership Public Schools: Richmond', 'Lee V. Pollard High', 'Lee Vining High', 'Leffingwell High (Continuation)', 'Leggett Valley High', 'Leigh High', 'Leland High', 'Lemoore High', 'Lemoore Middle College High', 'Lemoore Online College Preparatory High', 'Lennox Mathematics Science and Technology Academy', 'Leuzinger High', 'Liberty High', 'Liberty High', 'Liberty High', 'Liberty High', 'Liberty High', 'Liberty High', 'Liberty Ranch High', 'Life Learning Academy Charter', 'Lighthouse Community Charter High', 'Lighthouse Community Day', 'Lincoln (Abraham) High', 'Lincoln High', 'Lincoln High', 'Lincoln High', 'Lincoln High (Continuation)', 'Linda Esperanza Marquez High A Hntngtn Park Inst of Appl Med', 'Linda Esperanza Marquez High B LIBRA Academy', 'Linda Esperanza Marquez High C School of Social Justice', 'Linden High', 'Lindhurst High', 'Lindsay Senior High', 'Littlerock High', 'Live Oak High', 'Live Oak High', 'Livermore High', 'Livingston High', 'Loara High', 'Lodi High', 'Lompoc High', 'Lone Pine High', 'Long Barn High', 'Lopez Continuation High', 'Lorin Griset Academy', 'Los Alamitos High', 'Los Altos High', 'Los Altos High', 'Los Amigos High', 'Los Angeles College Prep Academy', 'Los Angeles County ROP', 'Los Angeles High School of the Arts', 'Los Angeles Senior High', 'Los Banos High', 'Los Gatos High', 'Los Molinos High', 'Los Osos High', 'Lovell High', 'Lowell High', 'LPS Oakland R & D Campus', 'Lucerne Valley High', 'Luis Valdez Leadership Academy', 'Luther Burbank High', 'Lynbrook High', 'Lynwood High', 'MAAC Community Charter', 'Mad River High (Continuation)', 'Madera High', 'Madera South High', 'Madison Community High', 'Madison High', 'Madrone High Continuation', 'Magnolia High', 'Maidu Virtual Charter Academy', 'Malibu High', 'Mammoth High', 'Manteca High', 'Manual Arts Senior High', 'Maple High', 'Mar Vista Senior High', 'MARC High', 'Marce Becerra Academy', 'March Mountain High', 'Marco Antonio Firebaugh High', 'Maria Carrillo High', 'Maricopa High', 'Marin County ROP', 'Marin Oaks High', 'Marina High', 'Marina High', 'Mariposa County High', 'Mark Keppel High', 'Marshall (Thurgood) High', 'Martin Luther King Jr. High', 'Mary B. Perry High', 'Marysville High', 'Math and Science College Preparatory', 'Math Science & Technology Magnet Academy at Roosevelt High', 'Matilda Torres High', 'Matrix for Success Academy', 'Mattole Triple Junction High', 'Maxwell Sr High', 'Maywood Academy High', 'McClellan High (Continuation)', 'McCloud High', 'McClymonds High', 'McFarland High School Early College', 'McKinleyville High', 'McLane High', 'Mendocino County ROP', 'Mendocino High', 'Mendocino Sunrise High', 'Mendota Continuation High', 'Mendota High', 'Menlo-Atherton High', 'Meraki High', 'Merced High', 'MERIT Academy', 'Merrill F. West High', 'Mervyn M. Dymally High', 'Mesa Verde High', 'Mesquite Continuation High', 'Metropolitan Continuation', 'MetWest High', 'Middle College High', 'Middle College High', 'Middle College High', 'Middle College High', 'Middle College High', 'Middletown High', 'Miles P. Richmond', 'Millennium Charter', 'Millennium High Alternative', 'Millikan High', 'Mills High', 'Milpitas High', 'Milpitas Middle College High', 'Minarets Charter High', 'Minarets High', 'Mira Costa High', 'Mira Loma High', 'Mira Mesa High', 'Mira Monte High', 'Miramonte High', 'Mission Bay High', 'Mission Continuation', 'Mission Early College High', 'Mission High', 'Mission Hills High', 'Mission Oak High', 'Mission San Jose High', 'Mission Trails ROP', 'Mission Valley ROCP', 'Mission Viejo High', 'Mission Vista High', 'MIT Academy', 'Modesto High', 'Modoc County ROP', 'Modoc High', 'Mojave High', 'Mokelumne High (Continuation)', 'Monache High', 'Moneta Continuation', 'Mono County ROP', 'Monroe High (Continuation)', 'Monrovia High', 'Monta Vista High', 'Montclair High', 'Monte Vista High', 'Monte Vista High', 'Montebello High', 'Montecito High (Continuation)', 'Monterey Continuation', 'Monterey High', 'Monterey High (Continuation)', 'Monterey Peninsula Unified School District Community Day', 'Monterey Trail High', 'Montgomery High', 'Montgomery Senior High', 'Moorpark High', 'Moreno High (Continuation)', 'Moreno Valley High', 'Morningside High', 'Morro Bay High', 'Morse High', 'Mount Miguel High', 'Mount Toro High', 'Mountain Empire High', 'Mountain High', 'Mountain High', 'Mountain House High', 'Mountain Oaks High', 'Mountain View High', 'Mountain View High', 'Mountain View High', 'Mountain View High', 'Mountain View High (Continuation)', 'Mt. Carmel High', 'Mt. Diablo High', 'Mt. Eden High', 'Mt. Lassic High (Continuation)', 'Mt. Lukens Continuation', 'Mt. Madonna High', 'Mt. Olive Innovation and Technology High', 'Mt. Pleasant High', 'Mt. SAC Early College Academy at West Covina', 'Mt. San Jacinto High', 'Mt. Shasta High', 'Mt. Tallac High', 'Mt. Whitney High', 'Murrieta Mesa High', 'Murrieta Options', 'Murrieta Valley High', 'N.A. Chaderjian High', 'Napa High', 'Nathaniel Narbonne Senior High', 'Natomas High', 'Natomas Pacific Pathways Prep', 'Natural High (Continuation)', 'NAVA College Preparatory Academy', 'Needles High', 'Nevada Union High', 'New Horizon High', 'New Millennium Secondary', 'New Opportunities Charter', 'New School Community Day', 'New Technology High', 'New Technology High', 'New Valley Continuation High', 'New Village Girls Academy', 'New Vision High', 'Newark Memorial High', 'Newbury Park High', 'Newport Harbor High', 'Nipomo High', 'Nogales High', 'Norco High', 'Nordhoff High', 'Norte Vista High', 'North County Regional Occupational Program', 'North County Trade Tech High', 'North High', 'North High', 'North Hollywood Senior High', 'North Monterey County High', 'North Orange County ROP', 'North Park Continuation High', 'North Point Academy', 'North Salinas High', 'North Tahoe High', 'North Valley High', 'North Valley High (Continuation)', 'Northgate High', 'Northridge Academy High', 'Northview High', 'Northwood High', 'Norwalk High', 'NOVA Academy - Coachella', 'Nova Academy Early College High', 'Novato High', 'Noyo High (Continuation)', 'Nueva Continuation High', 'Nueva Vista Continuation High', 'Nuview Bridge Early College High', \"O'Connell (John) High\", 'Oak Glen High', 'Oak Grove High', 'Oak Hills High', 'Oak Park High', 'Oak View High', 'Oakdale High', 'Oakland Charter High', 'Oakland High', 'Oakland International High', 'Oakland Technical High', 'Oakland Unity High', 'Oakmont High', 'Oakview High (Alternative)', 'Oasis Continuation High', 'Oasis High (Alternative)', 'Ocean View High', 'Oceana High', 'Oceanside High', 'Odyssey Continuation', 'Odyssey STEM Academy', 'Olympian High', 'Olympic Continuation High', 'Olympic High (Continuation)', 'Ontario High', 'Open Door Charter', 'Opportunity Youth Academy', 'Orange County Workforce Innovation High', 'Orange Cove High', 'Orange Glen High', 'Orange Grove High', 'Orange High', 'Orange Vista High', 'Orangewood High (Continuation)', 'Orestimba High', 'Orland High', 'Orosi High', 'Oroville High', 'Oroville High Community Day', 'Ortega High', 'Orthopaedic Hospital', 'Oscar De La Hoya Animo Charter High', 'Osprey Learning Center', 'Otay Ranch Senior High', 'Owens Valley High', 'Owensmouth Continuation', 'Oxford Day Academy', 'Oxnard High', 'Oxnard Middle College High', 'Pacheco High', 'Pacific Career and Technology High', 'Pacific Coast High (Continuation)', 'Pacific Crest Academy', 'Pacific Grove High', 'Pacific High', 'Pacific High', 'Pacifica High', 'Pacifica High', 'Pajaro Valley High', 'Palisade Glacier High (Continuation)', 'Palisades Charter High', 'Palisades High (Continuation)', 'Palm Desert High', 'Palm Springs High', 'Palmdale High', 'Palo Alto High', 'Palo Verde High', 'Paloma Creek High', 'Paloma Valley High', 'Palos Verdes High', 'Palos Verdes Peninsula High', 'Panorama High', 'Paradise Senior High', 'Paramount High', 'Park West High (Continuation)', 'Parlier High', 'Pasadena High', 'Paso Robles High', 'Pathway Independent Study', 'Pathways Academy Charter - Adult Education', 'Patricia Dreizler Continuation High', 'Patriot High', 'Patterson High', 'Peninsula High', 'Peninsula High (Continuation)', 'Performing Arts Community at Diego Rivera Learning Complex', 'Perris High', 'Perris Lake High (Continuation)', 'Pershing Continuation High', 'Pescadero High', 'Petaluma High', 'Peter Johansen High', 'Phillip J Patino School of Entrepreneurship', 'Phineas Banning Senior High', 'Phoenix Continuation', 'Phoenix High (Continuation)', 'Phoenix High Community Day', 'Piedmont High', 'Piedmont Hills High', 'Pierce High', 'Pilarcitos Alternative High (Continuation)', 'Pine Grove Youth Conservation Camp', 'Piner High', 'Pinnacle Coastal Valley High', 'Pinnacles High', 'Pinole Valley High', 'Pioneer Continuation High', 'Pioneer High', 'Pioneer High', 'Pioneer High', 'Pioneer High (Continuation)', 'Pioneer Valley High', 'Pittsburg Senior High', 'Placer High', 'Plaza Robles Continuation High', 'Pleasant Grove High', 'Pleasant Valley High', 'Point Arena High', 'Point Loma High', 'Polytechnic High', 'Polytechnic High', 'Pomona High', 'Ponderosa High', 'Port of Los Angeles High', 'Porterville High', 'Portola High', 'Portola-Butler Continuation High', 'Potter Valley High', 'Poway High', 'Pride Continuation', 'Prospect High', 'Prospect High (Continuation)', 'Prospect High (Continuation)', 'Public Service Community at Diego Rivera Learning Complex', 'PUC Early College Academy for Leaders and Scholars (ECALS)', 'PUC Lakeview Charter High', 'Pueblo de Los Angeles Continuation', 'Quartz Hill High', 'R. K. Lloyde High', 'R. Rex Parris High', 'Raincross High (Continuation)', 'Ralph J. Bunche Continuation High', 'Ramon C. Cortines School of Visual and Performing Arts', 'Ramona High', 'Ramona High', 'Rancheria Continuation', 'Rancho Alamitos High', 'Rancho Bernardo High', 'Rancho Buena Vista High', 'Rancho Campana High', 'Rancho Cotate High', 'Rancho Cucamonga High', 'Rancho Mirage High', 'Rancho San Juan High', 'Rancho Verde High', 'Rancho Vista High', 'Raymond Granite High', 'REACH Academy', 'Red Bluff High', 'Redlands East Valley High', 'Redlands Senior High', 'Redondo Beach Learning Academy', 'Redondo Union High', 'Redwood Continuation High', 'Redwood High', 'Redwood High', 'Redwood High', 'Reedley High', 'Reedley Middle College High', 'Refugio High', 'Renaissance', 'Renaissance High', 'Renaissance High Continuation', 'Renaissance High School for the Arts', 'Rialto High', 'Richard D. Browning High', 'Richland Continuation High', 'Richmond High', 'Ridgeview High', 'Ridgeview High (Continuation)', 'Ridgway High (Continuation)', 'Rim of the World Senior High', 'Rio Americano High', 'Rio Cazadero High (Continuation)', 'Rio Del Rey High (Continuation)', 'Rio Linda High', 'Rio Mesa High', 'Rio Vista High', 'Ripon High', 'Rise Kohyang High', 'Rite of Passage', 'River City High', 'River Valley High', 'Riverbank High', 'Riverdale High', 'Riverside County ROP', 'Robert Elliott Alternative Education Center', 'Robert F. Kennedy High', 'Robert H. Lewis Continuation', 'Robertson High (Continuation)', 'Rocklin High', 'Ron Hockwalt Academies (Continuation)', 'Ronald E. McNair High', 'Roosevelt High', 'Rosamond High Early College Campus', 'Rose City High (Continuation)', 'Roselawn High', 'Rosemead High', 'Rosemont High', 'Roseville High', 'Round Valley Continuation', 'Round Valley High', 'Roy A. Johnson High', 'Royal High', 'Ruben S. Ayala High', 'Ruben Salazar Continuation', 'Rubidoux High', 'Rudsdale Continuation High', 'Russell Westbrook Why Not? High', 'Sacramento Charter High', 'Sacramento County ROP', 'Sage Creek High', 'Saint Helena High', 'Salinas High', 'Salisbury High (Continuation)', 'Sam Webb Continuation', 'San Andreas Continuation High', 'San Antonio Continuation', 'San Antonio High (Continuation)', 'San Benito High', 'San Bernardino County ROP', 'San Bernardino High', 'San Clemente High', 'San Diego Business/Leadership', 'San Diego County ROP', 'San Diego International Studies', 'San Diego Metro Career and Tech', 'San Diego Science and Technology', 'San Diego Workforce Innovation High', 'San Dieguito HS Academy', 'San Dimas High', 'San Fernando Senior High', 'San Gabriel High', 'San Gabriel Valley Regional Occupational Program', 'San Gorgonio High', 'San Jacinto High', 'San Joaquin High (Continuation)', 'San Jose High', 'San Jose Valley Continuation High', 'San Juan High', 'San Juan Hills High', 'San Leandro High', 'San Lorenzo High', 'San Lorenzo Valley High', 'San Luis High (Continuation)', 'San Luis Obispo High', 'San Marcos High', 'San Marcos Senior High', 'San Marin High', 'San Marino High', 'San Mateo High', 'San Pasqual Academy', 'San Pasqual High', 'San Pasqual Valley High', 'San Pedro Senior High', 'San Rafael High', 'San Ramon Valley High', 'San Ysidro High', 'Sanger High', 'Sanhedrin Alternative', 'Santa Ana High', 'Santa Barbara County ROP-South', 'Santa Barbara Senior High', 'Santa Clara High', 'Santa Cruz High', 'Santa Fe High', 'Santa Maria High', 'Santa Monica High', 'Santa Paula High', 'Santa Rosa High', 'Santa Susana High', 'Santa Teresa High', 'Santa Ynez Valley Union High', 'Santana High', 'Santana High (Continuation)', 'Santee Education Complex', 'Santiago High', 'Santiago High', 'Saratoga High', 'Saugus High', 'Savanna High', 'School for Entrepreneurship and Technology', 'School for the Visual Arts and Humanities', 'School of Business and Tourism at Contreras Learning Complex', 'School of Unlimited Learning', 'Schurr High', 'Sci Tech Engr Arts and Math at Legacy High Sch Complex', 'Scott River High', 'Scotts Valley High', 'Scripps Ranch High', 'Seaside High', 'Segerstrom High', 'Selma High', 'Sentinel High', 'Sequoia High', 'Sequoia High', 'Sequoia High', 'Serrano High', 'Shadow Hills High', 'Shafter High', 'Shandon High', 'Shasta Charter Academy', 'Shasta Collegiate Academy', 'Shasta High', 'Sheldon High', 'Sherman Thomas Charter High', 'Shery (Kurt T.) High (Continuation)', 'Shoshone High (Continuation)', 'Sierra Academy of Expeditionary Learning', 'Sierra Alternative High', 'Sierra Alternative Learning Academy', 'Sierra High', 'Sierra High', 'Sierra High', 'Sierra High', 'Sierra High', 'Sierra High (Continuation)', 'Sierra Madre High (Continuation)', 'Sierra Pacific High', 'Sierra Pass (Continuation)', 'Sierra Vista Charter High', 'Sierra Vista High', 'Sierra Vista High (Alternative)', 'Sierra Vista High (Continuation)', 'Silver Creek High', 'Silver Springs High (Continuation)', 'Silver Valley Community Day', 'Silver Valley High', 'Silverado High', 'Silverado High', 'Simi Valley High', 'Simon Rodia Continuation', 'Siskiyou County ROP', 'Six Rivers Charter High', 'Skyline High', 'Slover Mountain High (Continuation)', 'SOAR High (Students On Academic Rise)', 'Soc Just Leadership Acad at Esteban E. Torres High #5', 'Soldier Mountain High (Continuation)', 'Soledad High', 'Sonoma Mountain High (Continuation)', 'Sonoma Valley High', 'Sonora High', 'Sonora High', 'Soquel High', 'South Coast Continuation', 'South East High', 'South El Monte High', 'South Fork High', 'South Fork High', 'South Gate Senior High', 'South High', 'South High', 'South Hills High', 'South Pasadena Senior High', 'South San Francisco High', 'South Tahoe High', 'South Valley High (Continuation)', 'Southern Trinity High', 'Southwest High', 'Southwest Senior High', 'Spring Hill High (Continuation)', 'Stagg Senior High', 'Stanislaus Alternative Charter', 'Stanislaus Military Academy at Teel', 'Steele Canyon High', 'STEM Academy at Bernstein High', 'Stockdale High', 'Stockton Early College Academy', 'Stockton High', 'Stoney Point Continuation', 'Strathmore High', 'Street Academy Alternative High', 'Success One!', 'Sultana High', 'Summerville High', 'Summit High', 'Summit High (Continuation)', 'Summit Preparatory Charter High', 'Summit Public School: Shasta', 'Summit Public School: Tahoma', 'Sunny Hills High', 'Sunnyside High', 'Sunrise High (Continuation)', 'Sunset High', 'Sunset High (Continuation)', 'Surfside High (Continuation)', 'Susan Miller Dorsey Senior High', 'Sutter High', 'Sweetwater High', 'Sylmar Biotech Health and Engineering Magnet', 'Sylmar Charter High', 'Synergy Quantum Academy', 'T.I.M.E. Community', 'Taft Charter High', 'Taft Union High', 'Tahoe Truckee High', 'Tahquitz High', 'Tamalpais High', 'Tamiscal High (Alternative)', 'TEACH Tech Charter High', 'Technology High', 'Tehachapi High', 'Temecula Valley High', 'Temescal Canyon High', 'Temple City High', 'Templeton High', 'Templeton Independent Study High', 'Tennyson High', 'Terra Linda High', 'Terra Nova High', 'Tesoro High', 'The Education Corps', 'The High School at Moorpark College', 'The MET', 'Theodore Bird High', 'Theodore Roosevelt Senior High', 'Thomas Downey High', 'Thomas Jefferson Senior High', 'Thornton High', 'Thousand Oaks High', 'Tide Academy', 'Tierra Del Sol Continuation High', 'Tioga High', 'Tokay High', 'Tomales High', 'Torrance High', 'Torrey Pines High', 'Trabuco Hills High', 'TRACE', 'Tracy (Wilbur) High (Continuation)', 'Tracy High', 'Tranquillity High', 'Travis Education Center', 'Tri-Cities ROP', 'Tri-County ROP', 'Tri-Valley ROP', 'Trinity High', 'Troy High', 'Tulare Technical Preparatory High', 'Tulare Union High', 'Tulare Western High', 'Turlock High', 'Tustin High', 'Twelve Bridges High', 'Twentynine Palms High', 'Twin Oaks High', 'Twin Palms Continuation', 'Ukiah High', 'Ulysses S. Grant Senior High', 'Union Mine High', 'Unity Middle College High', 'University City High', 'University High', 'University High', 'University High School Charter', 'University Pathways Medical Magnet Academy', 'University Pathways Public Service Academy', 'University Preparatory High', 'University Preparatory Value High', 'Upland High', 'Upper Lake Community Day', 'Upper Lake High', 'Urban Corps of San Diego County Charter', 'Vacaville High', 'Vail High (Continuation)', 'Val Verde High', 'Valencia High', 'Valencia High', 'Valhalla High', 'Vallecito Continuation High', 'Vallejo High', 'Valley Academy of Arts and Sciences', 'Valley Alternative High (Continuation)', 'Valley Center High', 'Valley College High', 'Valley High', 'Valley High', 'Valley High', 'Valley High', 'Valley High (Continuation)', 'Valley High (Continuation)', 'Valley International Preparatory High', 'Valley Oak Continuation High', 'Valley ROP', 'Valley View High', 'Valley View High (Continuation)', 'Valley Vista High (Continuation)', 'Valor Academy High', 'Van Nuys Senior High', 'Vanden High', 'Vasquez High', 'Venice Senior High', 'Ventura High', 'Verdugo Hills Senior High', 'Vicente Martinez High', 'Victor Valley High', 'Victory High', 'View Park Continuation', 'Villa Park High', 'Village Academy High School at Indian Hill', 'Village High', 'Village Oaks High', 'Vintage High', 'Visalia Technical Early College', 'Vista Continuation High', 'Vista del Lago High', 'Vista del Lago High', 'Vista High', 'Vista High', 'Vista High (Continuation)', 'Vista Murrieta High', 'Vista Nueva Career and Technology High', 'Vista Real Charter High', 'Vista West Continuation High', 'Visual and Performing Arts at Legacy High School Complex', 'Wallenberg (Raoul) Traditional High', 'Wallis Annenberg High', 'Walnut High', 'Warner High', 'Warren (Earl) High', 'Wasco High', 'Wasco Independence High', 'Washington (George) High', 'Washington High', 'Washington High', 'Washington Middle College High', 'Waterford High', 'Watsonville High', 'We the People High', 'Weber Institute', 'Weed High', 'Wells (Ida B.) High', 'WESM Health/Sports Medicine', 'West Adams Preparatory High', 'West Campus', 'West County High', 'West Covina High', 'West High', 'West High', 'West Hills High', 'West Park High', 'West Ranch High', 'West Side Valley High (Continuation)', 'West Valley Early College High', 'West Valley High', 'Western High', 'Westlake High', 'Westminster High', 'Westmont High', 'Westmoor High', 'Weston Ranch High', 'Westside High', 'Westview High', 'Whale Gulch High', 'Wheatland Union High', 'Whitcomb Continuation High', 'Whitman Continuation', 'Whitmore Charter High', 'Whitney High', 'Whitney Young Continuation', 'Whittier High', 'Will C. Wood High', 'Will Rogers Continuation', 'William & Marian Ghidotti High', 'William C. Overfelt High', 'William J. (Pete) Knight High', 'William S. Hart High', 'William Workman High', 'Willits High', 'Willow Glen High', 'Willow High', 'Willows High', 'Wilmer Amina Carter High', 'Wilson High', 'Windsor High', 'Windsor Oaks Academy', 'Winters High', 'WISH Academy High', 'Wolfskill High', 'Woodbridge High', 'Woodcreek High', 'Woodlake High', 'Woodland Senior High', 'Woodrow Wilson Senior High', 'Woodside High', 'Yerba Buena High', 'Ygnacio Valley High', 'Yolo County ROP', 'Yolo High', 'Yorba Linda High', 'Yosemite High', 'Yosemite High (Continuation)', 'Yosemite Park High', 'Young Adult Program', 'Youth Opportunities Unlimited', 'YouthBuild Charter School of California', 'Yreka High', 'Yuba City High', 'Yucaipa High', 'Yucca Valley High', 'Zane Grey Continuation', 'Zupanic High']\n"
          ]
        },
        {
          "output_type": "execute_result",
          "data": {
            "text/plain": [
              "1732"
            ]
          },
          "metadata": {},
          "execution_count": 2
        }
      ]
    },
    {
      "cell_type": "code",
      "source": [
        "# use a smaller list to then feed into functions\n",
        "# update: just using all the elements\n",
        "\n",
        "list_names_test = list_names #[0:1732]\n",
        "\n",
        "print(list_names_test)\n",
        "len(list_names_test)"
      ],
      "metadata": {
        "id": "SxZGcDN--dqK",
        "colab": {
          "base_uri": "https://localhost:8080/"
        },
        "outputId": "8006b3eb-b44c-477b-e77e-298451c43b3e"
      },
      "execution_count": null,
      "outputs": [
        {
          "output_type": "stream",
          "name": "stdout",
          "text": [
            "['Abraham Lincoln Continuation', 'Abraham Lincoln High', 'Abraham Lincoln Senior High', 'Abraxas Continuation High', 'Academies of Education and Empowerment at Carson High', 'Academy (The)- SF @McAteer', 'Academy of Innovation', 'Academy of Medical Arts at Carson High', 'Academy of the Canyons', 'Academy of the Redwoods', 'Acalanes Center for Independent Study', 'Acalanes High', 'Accelerated Charter High', 'ACE Charter High', 'Achieve Charter High', 'Adelante High', 'Adelante High (Continuation)', 'Adelanto High', 'Adolfo Camarillo High', 'Adrian Wilcox High', 'Agoura High', 'Ahwahnee High', 'AIMS College Prep High', 'Alain Leroy Locke College Preparatory Academy', 'Alameda High', 'Alameda Science and Technology Institute', 'Albany High', 'Albert Einstein Continuation', 'Alessandro High', 'Alexander Hamilton Senior High', 'Alfonso B. Perez Special Education Center', 'Alhambra High', 'Alhambra Senior High', 'Alisal High', 'Aliso Niguel High', 'Alliance Cindy and Bill Simon Technology Academy High', 'Alliance Collins Family College-Ready High', 'Alliance Dr. Olga Mohan High', 'Alliance Judy Ivie Burton Technology Academy High', 'Alliance Leichtman-Levine Family Foundation Env Sci High', 'Alliance Marc & Eva Stern Math and Science', 'Alliance Margaret M. Bloomfield Technology Academy High', 'Alliance Morgan McKinzie High', 'Alliance Patti And Peter Neuwirth Leadership Academy', 'Alliance Piera Barbaglia Shaheen Health Services Academy', 'Alliance Renee and Meyer Luskin Academy High', 'Alliance Susan and Eric Smidt Technology High', 'Alliance Ted K. Tajima High', 'Alliance Tennenbaum Family Technology High', 'Almanor High (Continuation)', 'Alpaugh -Senior High', 'Alpha Cindy Avitia High', 'Alps View High (Continuation)', 'Alta Loma High', 'Alta Vista Alternative High', 'Alta Vista High', 'Alta Vista High (Continuation)', 'Alternative Learning Academy at Conley-Caraballo High', 'Alternatives in Action', 'Alvord Alternative Continuation High', 'Alvord Continuation High', 'Amador High', 'Amador Valley High', 'Amelia Earhart Continuation', 'American Canyon High', 'American High', 'American Legion High (Continuation)', 'Amistad High (Continuation)', 'Anaheim High', 'Anderson High', 'Anderson New Technology High', 'Anderson W. Clark Magnet High', 'Andrew P. Hill High', \"Angel's Gate (Continuation)\", 'Angelo Rodriguez High', 'Animo City of Champions Charter High', 'Animo Inglewood Charter High', 'Animo Jackie Robinson High', 'Animo Leadership High', 'Animo Pat Brown', 'Animo Ralph Bunche Charter High', 'Animo South Los Angeles Charter', 'Animo Venice Charter High', 'Animo Watts College Preparatory Academy', 'Ann Sobrato High', 'Antelope High', 'Antelope Valley High', 'Antelope Valley ROP', 'Antioch High', 'Anzar High', 'Apollo High', 'Apple Valley High', 'Applied Technology Center', 'Aptos High', 'Aragon High', 'Arbuckle Alternative High (Continuation)', 'Arcadia High', 'Arcata High', 'Archie Williams High', 'Architecture Construction & Engineering Charter High (ACE)', 'Arena High (Continuation)', 'Argonaut High', 'Argus High (Continuation)', 'ARISE High', 'Arleta High', 'Arlington High', 'Armijo High', 'Arnold O. Beckman High', 'Arrow High (Continuation)', 'Arroyo Grande High', 'Arroyo High', 'Arroyo High', 'Arroyo Valley High', 'Artesia High', 'Arthur A. Benjamin Health Professions High', 'Arvin High', 'Asawa (Ruth) SF Sch of the Arts A Public School', 'Aspire Benjamin Holt College Preparatory Academy', 'Atascadero High', 'Atwater High', 'Augustus F. Hawkins High A Critical Design and Gaming', 'Aurora High (Continuation)', 'Avenal High', 'Azusa High', 'B. Roberto Cruz Leadership Academy', 'Back Bay High', 'Baden High (Continuation)', 'Baker High', 'Bakersfield High', 'Balboa High', 'Baldwin Park High', 'Baldy View ROP', 'Banning High', 'Barstow High', 'Bassett Senior High', 'Bear Creek High', 'Bear River High', 'Beaumont Senior High', 'Beckwourth (Jim) High (Continuation)', 'Bell Gardens High', 'Bell Senior High', 'Bella Vista High', 'Belmont Senior High', 'Benicia High', 'Berkeley High', 'Bert Corona Charter High', 'Beverly Hills High', 'Bidwell Point High (Continuation)', 'Big Bear High', 'Big Pine High', 'Biggs High', 'Bill M. Manes High', 'Birmingham Community Charter High', 'Bishop Independent Study', 'Bishop Union High', 'Bitney Prep High', 'Black Diamond High (Continuation)', 'Black Rock Alternative/Continuation', 'Bloomington High', 'Bolsa Grande High', 'Bonita High', 'Bonita Vista Senior High', 'Bonsall High', 'Borrego Springs High', 'Bowman (Jereann) High (Continuation)', 'Boyle Heights Continuation', 'Boyle Heights Sci Tech Engr and Math Magnet', 'Boynton High', 'Boys Republic High', 'Branham High', 'Bravo Lake High', 'Brawley Union High', 'Brea Canyon High (Continuation)', 'Brea Olinda High', 'Brenkwitz High', 'Bret Harte Union High', 'Bridgepoint High (Continuation)', 'Bright Star Secondary Charter Academy', 'Broadway High', 'Buchanan High', 'Buckingham Collegiate Charter Academy', 'Buena High', 'Buena Park High', 'Buena Vista Continuation High', 'Buena Vista High', 'Buena Vista High', 'Buena Vista High (Continuation)', 'Buhach Colony High', 'Bullard High', 'Burbank High', 'Burlingame High', 'Burroughs High', 'Burroughs High', 'Burton (Phillip and Sala) Academic High', 'Butte County ROP', 'Butte Valley High', 'Butte View High', 'C. K. McClatchy High', 'CA Advancing Pathways for Students in Los Angeles Co', 'Cabrillo High', 'Cabrillo High', 'Cache Creek High (Continuation)', 'Cajon High', 'Cal Burke High', 'Calabasas High', 'Calaveras Hills', 'Calexico High', 'California Academy of Mathematics and Science', 'California City High', 'California Heritage Youthbuild Academy II', 'California High', 'California High', 'California Preparatory Academy', 'California School of the Arts - San Gabriel Valley', 'Calipatria High', 'Calla High', 'Calvine High', 'Cambridge Continuation High', 'Cambridge High', 'Camino Nuevo High #2', 'Campbell High Community Day', 'Campo High (Continuation)', 'Campolindo High', 'Canoga Park Senior High', 'Canyon Crest Academy', 'Canyon High', 'Canyon High', 'Canyon Hills High', 'Canyon Oaks High', 'Canyon Ridge High', 'Canyon Springs High', 'Capistrano Union High', 'Capistrano Valley High', 'Captain John Continuation High', 'Capuchino High', 'Career Technical Education Charter', 'Carle (William C.) High (Continuation)', 'Carlmont High', 'Carlsbad High', 'Carmel High', 'Carmel Valley High', 'Carpe Diem High (Continuation)', 'Carpinteria Senior High', 'Carson Senior High', 'Caruthers High', 'Casa Grande High', 'Casa Roble Fundamental High', 'Cascade High', 'Casterlin High', 'Castle Park Senior High', 'Castlemont High', 'Castro Valley High', 'CATCH Prep Charter High Inc.', 'Cathedral City High', 'CDS Bishop High', 'Centennial Continuation High', 'Centennial High', 'Centennial High', 'Centennial High', 'Center High', 'Centerville High (Continuation)', 'Centinela Valley Independent Study', 'Central Bay High (Continuation)', 'Central City Value', 'Central Coast High', 'Central Coast New Tech High', 'Central East High', 'Central High', 'Central High', 'Central High (Continuation)', 'Central Union High', 'Central Union Virtual Academy', 'Central Valley High', 'Central Valley High', 'Central Valley High (Continuation)', 'Century High', 'Century High', 'Ceres High', 'Cerritos High', 'Cesar Chavez Continuation High', 'Cesar Chavez High', 'Cesar E. Chavez High', 'Cesar E. Chavez High', 'Cesar E. Chavez Lrng Acads-Acad of Scientific Explr (ASE)', 'Cesar E. Chavez Lrng Acads-Arts/Theatre/Entertain Mag', 'Cesar E. Chavez Lrng Acads-Soc Just Humanitas Acad', 'Cesar E. Chavez Lrng Acads-Tech Prep Acad', 'Chaffey Community Day', 'Chaffey District Online High', 'Chaffey High', 'CHAMPS - Charter HS of Arts-Multimedia & Performing', 'Channel Islands High', 'Chaparral High', 'Chaparral High', 'Chaparral High', 'Chaparral High', 'Chaparral High (Continuation)', 'Charter Oak High', 'Chatsworth Charter High', 'Chesnut High (Continuation)', 'Cheviot Hills Continuation', 'Chico High', 'Chino High', 'Chino Hills High', 'Chowchilla Union High', 'Christopher High', 'Chula Vista Senior High', 'Citrus High', 'Citrus Hill High', 'Citrus Valley High', 'City Arts and Tech High', 'City Honors International Preparatory High', 'Clairemont High', 'Claremont High', 'Classical Academy High', 'Clayton Valley Charter High', 'Clear Lake High', 'Clear Passage Educational Center', 'Clover Valley High (Continuation)', 'Cloverdale High', 'Clovis East High', 'Clovis High', 'Clovis North High', 'Clovis West High', 'Coachella Valley High', 'Coalinga High', 'Coast High', 'Coast Union High', 'Coastline ROP', 'Cold Springs High', 'Coleville High', 'Colfax High', 'College and Career Preparatory Academy', 'College Bridge Academy', 'College Park High', 'Collegiate Charter High School of Los Angeles', 'Colony Basic Skills Alternative High', 'Colony High', 'Colton High', 'Colton-Redlands-Yucaipa ROP', 'Colusa Alternative High (Continuation)', 'Colusa High', 'Come Back Butte Charter', 'Come Back Charter', 'Come Back Kids', 'Communication and Tech at Diego Rivera Lrng Complex', 'Community Day', 'Community High (Continuation)', 'Compton Community Day High', 'Compton Early College High', 'Compton High', 'Compton Unified ROP', 'Concord High', 'Condor High', 'Conejo Valley High (Continuation)', 'Contra Costa County ROP', 'Contreras Learning Center-Academic Leadership Community', 'Contreras Learning Center-School of Social Justice', 'Contreras Lrng Center-Los Angeles Sch of Global Studies', 'Corcoran High', 'Cordova High', 'Core Learning Academy at Conley-Caraballo High', 'Corning High', 'Corning Independent Study', 'Corona High', 'Corona Vista High', 'Coronado High', 'Coronado High (Continuation)', 'Costanoa Continuation High', 'Cosumnes Oaks High', 'Coulterville High', 'Countryside Community Day', 'Covina High', 'Crawford High', 'Credence High', 'Credo High', 'Creekside High', 'Creekside High', 'Crenshaw Sci Tech Engr Math and Med Magnet', 'Crescenta Valley High', 'Culver City High', 'Cupertino High', 'Cuyama Valley High', 'Cypress High', 'Da Vinci Communications', 'Da Vinci Design', 'Da Vinci RISE High', 'Da Vinci Science', 'Daily (Allan F.) High (Continuation)', 'Dan M. Issacs Avalon High', 'Dana Hills High', 'Daniel Pearl Journalism & Communications Magnet', 'Daylor (William) High (Continuation)', 'De Anza High', 'Deep Creek Academy', 'Deer Valley High', 'Del Campo High', 'Del Lago Academy - Campus of Applied Science', 'Del Mar High', 'Del Norte County ROP', 'Del Norte High', 'Del Norte High', 'Del Oro High', 'Del Puerto High', 'Delano High', 'Delhi High', 'Delta Charter', 'Delta High', 'Denair High', 'Desert Hot Springs High', 'Desert Mirage High', 'Desert Oasis High (Continuation)', 'Desert Sands Charter', 'Desert Valley High (Continuation)', 'Desert Winds Continuation High', 'Design Science Middle College High', 'Design Tech High', 'Dewey Academy High', 'Diamond Bar High', 'Diamond Ranch High', 'Diamond Technology Institute', 'Dickens (Billy Joe) High (Continuation)', 'Diego Rivera Learning Complex Green Design STEAM Academy', 'Dinuba High', 'Discovery Charter Preparatory #2', 'Discovery High', 'Discovery High', 'Divide High', 'Dixon High', 'Dominguez High', 'Don Antonio Lugo High', 'Don Pedro High', 'Dorothy V. Johnson Community Day', 'Dos Palos High', 'Dos Pueblos Senior High', 'Dougherty Valley High', 'Downey High', 'Downtown Business High', 'Downtown College Preparatory', 'Downtown High', 'Dozier-Libbey Medical High', 'Dr. Doug Sears Learning Center', 'Dr. John H. Milor Continuation High', 'Dr. Maya Angelou Community High', 'Dr. Richard A. Vladovic Harbor Teacher Preparation Academy', 'Dr. TJ Owens Gilroy Early College Academy', 'Duarte High', 'Dublin High', 'Dunsmuir High', 'Dunsmuir Joint Union High Community Day', 'Durham High', 'E. Los Angeles Renaiss Acad at Esteban E. Torres High #2', 'e3 Civic High', 'Eagle Canyon High', 'Eagle Tree Continuation', 'Earl F. Johnson High (Continuation)', 'Early College Academy-LA Trade Tech College', 'Early College High', 'East Bakersfield High', 'East Bay Arts High', 'East Nicolaus High', 'East Palo Alto Academy', 'East Stanislaus High', 'East Union High', 'East Valley Senior High', 'East Village Middle College High', 'Eastlake High', 'Easton Community Day', 'Easton Continuation High', 'Eastside High', 'Ed Donaldson Education Center', 'Edgewood High', 'Edison High', 'Edison High', 'Edison High', 'Ednovate - Brio College Prep', 'Ednovate - East College Prep', 'Ednovate - Esperanza College Prep', 'Ednovate - Legacy College Prep.', 'Ednovate - South LA College Prep', 'Ednovate - USC Hybrid High College Prep', 'Educational Partnership High', 'Educational Training Center', 'Edward C. Merlo Institute of Environmental Studies', 'Edward P. Duplex', 'Edward R. Roybal Learning Center', 'Eisenhower High', 'El Cajon Valley High', 'El Camino Fundamental High', 'El Camino High', 'El Camino High', 'El Camino High', 'El Camino High', 'El Camino High (Continuation)', 'El Camino Real Charter High', 'El Camino Real Continuation High', 'El Capitan High', 'El Capitan High', 'El Cerrito High', 'El Diamante High', 'El Dorado High', 'El Dorado High', 'El Modena High', 'El Monte High', 'El Monte Union High School Community Day', 'El Puente High', 'El Rancho High', 'El Segundo High', 'El Sereno Alternative Education', 'El Toro High', 'Eleanor Roosevelt High', 'Elite Academy', 'Elk Creek High', 'Elk Grove High', 'Ellen Ochoa Prep Academy', 'Ellington (Duke) High (Continuation)', 'Elm High', 'Elsie Allen High', 'Elsinore High', 'Emery Secondary', 'Empower Generations', 'Encina Preparatory High', 'Engr and Tech Acad at Esteban E. Torres High #3', 'Enterprise High', 'Entrepreneur High', 'Entrepreneur High Fontana', 'Environmental Charter High - Gardena', 'Environmental Charter High - Lawndale', 'EPIC de Cesar Chavez', 'Erma Duncan Polytechnical High', 'Ernest Righetti High', 'Ernest S. McBride Sr. High', 'Escalon High', 'Escondido Charter High', 'Escondido High', 'Escuela Popular/Center for Training and Careers Family Lrng', 'Esparto High', 'Esperanza High', 'Esperanza High (Continuation)', 'Estancia High', 'Esteban Torres East LA Performing Arts Magnet', 'Estrellita Continuation High', 'Etiwanda High', 'Etna Union High', 'Eunice Sato Academy of Math & Science', 'Eureka Senior High', 'Everest Public High', 'Everett Alvarez High', 'Evergreen Continuation', 'Evergreen High', 'Evergreen Valley High', 'Exeter Union High', 'Fair View High (Continuation)', 'Fairfax Senior High', 'Fairfield High', 'Fairvalley High (Continuation)', 'Fallbrook High', 'Family First Charter', 'Farmersville High', 'Felicitas and Gonzalo Mendez High', 'Ferndale High', 'Fillmore Senior High', 'Firebaugh High', \"Five Keys Adult School (SF Sheriff's)\", \"Five Keys Charter (SF Sheriff's)\", \"Five Keys Independence HS (SF Sheriff's)\", 'Florence E. Rata', 'Florin High', 'Folsom High', 'Folsom Lake High', 'Fontana A. B. Miller High', 'Fontana High', 'Foothill High', 'Foothill High', 'Foothill High', 'Foothill High', 'Foothill High', 'Foothill Technology High', 'Foothills High', 'Foresthill High', 'Fort Bragg High', 'Fortuna Union High', 'Fountain Valley High', 'Fowler Academy Community Day (9-12)', 'Fowler High', 'Francisco Bravo Medical Magnet High', 'Franklin High', 'Frazier Mountain High', 'Fred C. Beyer High', 'Freedom High', 'Fremont High', 'Fremont High', 'Fresno High', 'Fresno ROP', 'Frida Kahlo High', 'Frontier High', 'Frontier High', 'Frontier High (Continuation)', 'Fullerton Union High', 'Gabrielino High', 'Gahr (Richard) High', 'Galileo High', 'Galt High', 'Ganesha High', 'Garden Grove High', 'Gardena Senior High', 'Garey High', 'Garfield High', 'Gateway College and Career Academy', 'Gateway High', 'Gateway High (Continuation)', 'Gateway High (Continuation)', 'Gateway to College High at Laney College', 'George and Evelyn Stein Continuation', 'George S. Patton Continuation', 'George Washington Carver School of Arts and Science', 'George Washington Preparatory High', 'Gilbert High (Continuation)', 'Gilroy High', 'Glacier High School Charter', 'Gladstone High', 'Glen A. Wilson High', 'Glen View High', 'Glendale High', 'Glendora High', 'Glenn County ROP', 'Gold Strike High', 'Golden Valley High', 'Golden Valley High', 'Golden Valley High', 'Golden West High', 'Gonzales High', 'Goodwill High', 'Grace M. Davis High', 'Granada High', 'Granada High', 'Grand Terrace High Sch at the Ray Abril Jr. Edal Complex', 'Granite Bay High', 'Granite Hills High', 'Granite Hills High', 'Granite Hills High', 'Grant Union High', 'Great Oak High', 'Green Valley High', 'Greenfield High', 'Greenwood Academy', 'Gridley High', 'Griffin Academy High', 'Grossmont High', 'Grover Cleveland Charter High', 'Gunderson High', 'Gustine High', 'Half Moon Bay High', 'Hamilton High', 'Hanford Community Day', 'Hanford High', 'Hanford Online Charter', 'Hanford West High', 'Happy Camp High', 'Harbor High', 'Harmony Magnet Academy', 'Harris Newmark Continuation', 'Hart ROP', 'Harvest High', 'Hawthorne High', 'Hawthorne Math and Science Academy', 'Hayfork High', 'Hayward High', 'Healdsburg High', 'Health Careers Academy', 'Health Sciences High and Middle College', 'Hector G. Godinez', 'Helen Bernstein High', 'Helix High', 'Hemet High', 'Henry David Thoreau Continuation', 'Henry High', 'Henry J. Kaiser High', 'Henry M. Gunn High', 'Herbert Hoover High', 'Herbert Hoover High', 'Hercules High', 'Heritage High', 'Heritage High', 'Herlong High', 'Hesperia High', 'High Tech High', 'High Tech High Chula Vista', 'High Tech High International', 'High Tech High Media Arts', 'High Tech High Mesa', 'High Tech High North County', 'High Tech LA', 'Highland High', 'Highland High', 'Highland Park Continuation', 'Highlands High', 'Hilda L. Solis Lrng Acad Sch of Tech Business and Ed', 'Hillcrest High', 'Hillsdale High', 'Hilltop Senior High', 'Hillview High (Continuation)', 'Hilmar High', 'Hiram W. Johnson High', 'Hollywood Senior High', 'Holtville High', 'Homestead High', 'Hoopa Valley High', 'Hoover High', 'Horizon High', 'Hueneme High', 'Hughson High', 'Humanitas Acad of Art and Tech at Esteban E. Torres High #4', 'Humanities and Arts (HARTS) Academy of Los Angeles', 'Huntington Beach High', 'Huntington Park Senior High', 'ICEF View Park Preparatory High', 'IDEA Center', 'Imperial Ave. Holbrook High', 'Imperial High', 'Imperial Pathways Charter', 'Imperial Valley ROP', 'Independence Continuation', 'Independence Continuation', 'Independence Continuation High', 'Independence High', 'Independence High', 'Independence High', 'Independence High', 'Independence High', 'Independence High (Alternative)', 'Independence High (Alternative)', 'Independence High (Alternative)', 'Independence High (Continuation)', 'Inderkum High', 'Indian Hills Continuation High', 'Indian Springs High', 'Indio High', 'Inglewood Continuation High', 'Inglewood High', 'Insight School of California', 'Inspire School of Arts and Sciences', 'Intellectual Virtues Academy', 'International Polytechnic High', 'Irvine High', 'Irvington High', 'Irwin High (Continuation)', 'Island High (Continuation)', 'Ivy High (Continuation)', 'Jack London Community Day', 'Jack London Continuation', 'James A. Garfield Senior High', 'James C. Enochs High', 'James Lick High', 'James Logan High', 'James Monroe High', 'Jamison (Donald C.) High (Continuation)', 'Jane Addams Continuation', 'Jane Frederick High', 'Jefferson High', 'Jesse M. Bethel High', 'Johanna Echols-Hansen High (Continuation)', 'John A. Rowland High', 'John C. Fremont Senior High', 'John C. Kimball High', 'John F. Kennedy High', 'John F. Kennedy High', 'John F. Kennedy High', 'John F. Kennedy High', 'John F. Kennedy High', 'John F. Kennedy High', 'John Finney High (Continuation)', 'John H. Francis Polytechnic', 'John H. Glenn High', 'John H. Pitman High', 'John Henry High', 'John Hope Continuation', 'John J. Cairns Continuation', 'John Marshall Senior High', 'John Muir Charter', 'John Muir High', 'John R. Wooden High', 'John Swett High', 'John W. North High', 'Jordan (June) School for Equity', 'Jordan High', 'Jordan High', 'Joseph A. Gregori High', 'Julian High', 'Jurupa Hills High', 'Jurupa Valley High', 'Justin Garza High', 'Katella High', 'Kaweah High', 'Kearny College Connections', 'Kearny Digital Media & Design', 'Kearny Eng Innov & Design', 'Kearny School of Biomedical Science and Technology', 'Kelseyville High', 'Kerman High', 'Kern County ROP', 'Kern High ROC', 'Kern Valley High', 'Kern Workforce 2000 Academy', 'King (Martin Luther) High (Continuation)', 'King City High', 'King-Chavez Community High', 'King/Drew Medical Magnet High', 'Kings Canyon Continuation', 'Kingsburg High', 'Kingsburg Independent Study High', 'Kinney High (Continuation)', 'KIPP Esperanza High', 'KIPP King Collegiate High', 'KIPP Navigate College Prep', 'KIPP San Francisco College Preparatory', 'KIPP San Jose Collegiate', 'L.A. County High School for the Arts', 'La Costa Canyon High', 'La Cuesta Continuation High', 'La Entrada Continuation High', 'La Habra High', 'La Jolla High', 'La Mirada High', 'La Paloma High (Continuation)', 'La Puente High', 'La Quinta High', 'La Quinta High', 'La Serna High', 'La Sierra High', 'La Sierra High (Alternative)', 'La Vista High (Continuation)', 'Laguna Beach High', 'Laguna Creek High', 'Laguna High', 'Laguna Hills High', 'Lake County ROP', 'Lakeside High', 'Lakewood High', 'Lancaster High', 'Las Lomas High', 'Las Plumas High', 'Lassen Community Day', 'Lassen High', 'Lathrop High', 'Latino College Preparatory Academy', 'Latitude 37.8 High', 'Laton High', 'Lawndale High', 'Laytonville Continuation High', 'Laytonville High', 'Le Grand High', 'Leadership High', 'Leadership Military Academy', 'Leadership Public Schools - Hayward', 'Leadership Public Schools: Richmond', 'Lee V. Pollard High', 'Lee Vining High', 'Leffingwell High (Continuation)', 'Leggett Valley High', 'Leigh High', 'Leland High', 'Lemoore High', 'Lemoore Middle College High', 'Lemoore Online College Preparatory High', 'Lennox Mathematics Science and Technology Academy', 'Leuzinger High', 'Liberty High', 'Liberty High', 'Liberty High', 'Liberty High', 'Liberty High', 'Liberty High', 'Liberty Ranch High', 'Life Learning Academy Charter', 'Lighthouse Community Charter High', 'Lighthouse Community Day', 'Lincoln (Abraham) High', 'Lincoln High', 'Lincoln High', 'Lincoln High', 'Lincoln High (Continuation)', 'Linda Esperanza Marquez High A Hntngtn Park Inst of Appl Med', 'Linda Esperanza Marquez High B LIBRA Academy', 'Linda Esperanza Marquez High C School of Social Justice', 'Linden High', 'Lindhurst High', 'Lindsay Senior High', 'Littlerock High', 'Live Oak High', 'Live Oak High', 'Livermore High', 'Livingston High', 'Loara High', 'Lodi High', 'Lompoc High', 'Lone Pine High', 'Long Barn High', 'Lopez Continuation High', 'Lorin Griset Academy', 'Los Alamitos High', 'Los Altos High', 'Los Altos High', 'Los Amigos High', 'Los Angeles College Prep Academy', 'Los Angeles County ROP', 'Los Angeles High School of the Arts', 'Los Angeles Senior High', 'Los Banos High', 'Los Gatos High', 'Los Molinos High', 'Los Osos High', 'Lovell High', 'Lowell High', 'LPS Oakland R & D Campus', 'Lucerne Valley High', 'Luis Valdez Leadership Academy', 'Luther Burbank High', 'Lynbrook High', 'Lynwood High', 'MAAC Community Charter', 'Mad River High (Continuation)', 'Madera High', 'Madera South High', 'Madison Community High', 'Madison High', 'Madrone High Continuation', 'Magnolia High', 'Maidu Virtual Charter Academy', 'Malibu High', 'Mammoth High', 'Manteca High', 'Manual Arts Senior High', 'Maple High', 'Mar Vista Senior High', 'MARC High', 'Marce Becerra Academy', 'March Mountain High', 'Marco Antonio Firebaugh High', 'Maria Carrillo High', 'Maricopa High', 'Marin County ROP', 'Marin Oaks High', 'Marina High', 'Marina High', 'Mariposa County High', 'Mark Keppel High', 'Marshall (Thurgood) High', 'Martin Luther King Jr. High', 'Mary B. Perry High', 'Marysville High', 'Math and Science College Preparatory', 'Math Science & Technology Magnet Academy at Roosevelt High', 'Matilda Torres High', 'Matrix for Success Academy', 'Mattole Triple Junction High', 'Maxwell Sr High', 'Maywood Academy High', 'McClellan High (Continuation)', 'McCloud High', 'McClymonds High', 'McFarland High School Early College', 'McKinleyville High', 'McLane High', 'Mendocino County ROP', 'Mendocino High', 'Mendocino Sunrise High', 'Mendota Continuation High', 'Mendota High', 'Menlo-Atherton High', 'Meraki High', 'Merced High', 'MERIT Academy', 'Merrill F. West High', 'Mervyn M. Dymally High', 'Mesa Verde High', 'Mesquite Continuation High', 'Metropolitan Continuation', 'MetWest High', 'Middle College High', 'Middle College High', 'Middle College High', 'Middle College High', 'Middle College High', 'Middletown High', 'Miles P. Richmond', 'Millennium Charter', 'Millennium High Alternative', 'Millikan High', 'Mills High', 'Milpitas High', 'Milpitas Middle College High', 'Minarets Charter High', 'Minarets High', 'Mira Costa High', 'Mira Loma High', 'Mira Mesa High', 'Mira Monte High', 'Miramonte High', 'Mission Bay High', 'Mission Continuation', 'Mission Early College High', 'Mission High', 'Mission Hills High', 'Mission Oak High', 'Mission San Jose High', 'Mission Trails ROP', 'Mission Valley ROCP', 'Mission Viejo High', 'Mission Vista High', 'MIT Academy', 'Modesto High', 'Modoc County ROP', 'Modoc High', 'Mojave High', 'Mokelumne High (Continuation)', 'Monache High', 'Moneta Continuation', 'Mono County ROP', 'Monroe High (Continuation)', 'Monrovia High', 'Monta Vista High', 'Montclair High', 'Monte Vista High', 'Monte Vista High', 'Montebello High', 'Montecito High (Continuation)', 'Monterey Continuation', 'Monterey High', 'Monterey High (Continuation)', 'Monterey Peninsula Unified School District Community Day', 'Monterey Trail High', 'Montgomery High', 'Montgomery Senior High', 'Moorpark High', 'Moreno High (Continuation)', 'Moreno Valley High', 'Morningside High', 'Morro Bay High', 'Morse High', 'Mount Miguel High', 'Mount Toro High', 'Mountain Empire High', 'Mountain High', 'Mountain High', 'Mountain House High', 'Mountain Oaks High', 'Mountain View High', 'Mountain View High', 'Mountain View High', 'Mountain View High', 'Mountain View High (Continuation)', 'Mt. Carmel High', 'Mt. Diablo High', 'Mt. Eden High', 'Mt. Lassic High (Continuation)', 'Mt. Lukens Continuation', 'Mt. Madonna High', 'Mt. Olive Innovation and Technology High', 'Mt. Pleasant High', 'Mt. SAC Early College Academy at West Covina', 'Mt. San Jacinto High', 'Mt. Shasta High', 'Mt. Tallac High', 'Mt. Whitney High', 'Murrieta Mesa High', 'Murrieta Options', 'Murrieta Valley High', 'N.A. Chaderjian High', 'Napa High', 'Nathaniel Narbonne Senior High', 'Natomas High', 'Natomas Pacific Pathways Prep', 'Natural High (Continuation)', 'NAVA College Preparatory Academy', 'Needles High', 'Nevada Union High', 'New Horizon High', 'New Millennium Secondary', 'New Opportunities Charter', 'New School Community Day', 'New Technology High', 'New Technology High', 'New Valley Continuation High', 'New Village Girls Academy', 'New Vision High', 'Newark Memorial High', 'Newbury Park High', 'Newport Harbor High', 'Nipomo High', 'Nogales High', 'Norco High', 'Nordhoff High', 'Norte Vista High', 'North County Regional Occupational Program', 'North County Trade Tech High', 'North High', 'North High', 'North Hollywood Senior High', 'North Monterey County High', 'North Orange County ROP', 'North Park Continuation High', 'North Point Academy', 'North Salinas High', 'North Tahoe High', 'North Valley High', 'North Valley High (Continuation)', 'Northgate High', 'Northridge Academy High', 'Northview High', 'Northwood High', 'Norwalk High', 'NOVA Academy - Coachella', 'Nova Academy Early College High', 'Novato High', 'Noyo High (Continuation)', 'Nueva Continuation High', 'Nueva Vista Continuation High', 'Nuview Bridge Early College High', \"O'Connell (John) High\", 'Oak Glen High', 'Oak Grove High', 'Oak Hills High', 'Oak Park High', 'Oak View High', 'Oakdale High', 'Oakland Charter High', 'Oakland High', 'Oakland International High', 'Oakland Technical High', 'Oakland Unity High', 'Oakmont High', 'Oakview High (Alternative)', 'Oasis Continuation High', 'Oasis High (Alternative)', 'Ocean View High', 'Oceana High', 'Oceanside High', 'Odyssey Continuation', 'Odyssey STEM Academy', 'Olympian High', 'Olympic Continuation High', 'Olympic High (Continuation)', 'Ontario High', 'Open Door Charter', 'Opportunity Youth Academy', 'Orange County Workforce Innovation High', 'Orange Cove High', 'Orange Glen High', 'Orange Grove High', 'Orange High', 'Orange Vista High', 'Orangewood High (Continuation)', 'Orestimba High', 'Orland High', 'Orosi High', 'Oroville High', 'Oroville High Community Day', 'Ortega High', 'Orthopaedic Hospital', 'Oscar De La Hoya Animo Charter High', 'Osprey Learning Center', 'Otay Ranch Senior High', 'Owens Valley High', 'Owensmouth Continuation', 'Oxford Day Academy', 'Oxnard High', 'Oxnard Middle College High', 'Pacheco High', 'Pacific Career and Technology High', 'Pacific Coast High (Continuation)', 'Pacific Crest Academy', 'Pacific Grove High', 'Pacific High', 'Pacific High', 'Pacifica High', 'Pacifica High', 'Pajaro Valley High', 'Palisade Glacier High (Continuation)', 'Palisades Charter High', 'Palisades High (Continuation)', 'Palm Desert High', 'Palm Springs High', 'Palmdale High', 'Palo Alto High', 'Palo Verde High', 'Paloma Creek High', 'Paloma Valley High', 'Palos Verdes High', 'Palos Verdes Peninsula High', 'Panorama High', 'Paradise Senior High', 'Paramount High', 'Park West High (Continuation)', 'Parlier High', 'Pasadena High', 'Paso Robles High', 'Pathway Independent Study', 'Pathways Academy Charter - Adult Education', 'Patricia Dreizler Continuation High', 'Patriot High', 'Patterson High', 'Peninsula High', 'Peninsula High (Continuation)', 'Performing Arts Community at Diego Rivera Learning Complex', 'Perris High', 'Perris Lake High (Continuation)', 'Pershing Continuation High', 'Pescadero High', 'Petaluma High', 'Peter Johansen High', 'Phillip J Patino School of Entrepreneurship', 'Phineas Banning Senior High', 'Phoenix Continuation', 'Phoenix High (Continuation)', 'Phoenix High Community Day', 'Piedmont High', 'Piedmont Hills High', 'Pierce High', 'Pilarcitos Alternative High (Continuation)', 'Pine Grove Youth Conservation Camp', 'Piner High', 'Pinnacle Coastal Valley High', 'Pinnacles High', 'Pinole Valley High', 'Pioneer Continuation High', 'Pioneer High', 'Pioneer High', 'Pioneer High', 'Pioneer High (Continuation)', 'Pioneer Valley High', 'Pittsburg Senior High', 'Placer High', 'Plaza Robles Continuation High', 'Pleasant Grove High', 'Pleasant Valley High', 'Point Arena High', 'Point Loma High', 'Polytechnic High', 'Polytechnic High', 'Pomona High', 'Ponderosa High', 'Port of Los Angeles High', 'Porterville High', 'Portola High', 'Portola-Butler Continuation High', 'Potter Valley High', 'Poway High', 'Pride Continuation', 'Prospect High', 'Prospect High (Continuation)', 'Prospect High (Continuation)', 'Public Service Community at Diego Rivera Learning Complex', 'PUC Early College Academy for Leaders and Scholars (ECALS)', 'PUC Lakeview Charter High', 'Pueblo de Los Angeles Continuation', 'Quartz Hill High', 'R. K. Lloyde High', 'R. Rex Parris High', 'Raincross High (Continuation)', 'Ralph J. Bunche Continuation High', 'Ramon C. Cortines School of Visual and Performing Arts', 'Ramona High', 'Ramona High', 'Rancheria Continuation', 'Rancho Alamitos High', 'Rancho Bernardo High', 'Rancho Buena Vista High', 'Rancho Campana High', 'Rancho Cotate High', 'Rancho Cucamonga High', 'Rancho Mirage High', 'Rancho San Juan High', 'Rancho Verde High', 'Rancho Vista High', 'Raymond Granite High', 'REACH Academy', 'Red Bluff High', 'Redlands East Valley High', 'Redlands Senior High', 'Redondo Beach Learning Academy', 'Redondo Union High', 'Redwood Continuation High', 'Redwood High', 'Redwood High', 'Redwood High', 'Reedley High', 'Reedley Middle College High', 'Refugio High', 'Renaissance', 'Renaissance High', 'Renaissance High Continuation', 'Renaissance High School for the Arts', 'Rialto High', 'Richard D. Browning High', 'Richland Continuation High', 'Richmond High', 'Ridgeview High', 'Ridgeview High (Continuation)', 'Ridgway High (Continuation)', 'Rim of the World Senior High', 'Rio Americano High', 'Rio Cazadero High (Continuation)', 'Rio Del Rey High (Continuation)', 'Rio Linda High', 'Rio Mesa High', 'Rio Vista High', 'Ripon High', 'Rise Kohyang High', 'Rite of Passage', 'River City High', 'River Valley High', 'Riverbank High', 'Riverdale High', 'Riverside County ROP', 'Robert Elliott Alternative Education Center', 'Robert F. Kennedy High', 'Robert H. Lewis Continuation', 'Robertson High (Continuation)', 'Rocklin High', 'Ron Hockwalt Academies (Continuation)', 'Ronald E. McNair High', 'Roosevelt High', 'Rosamond High Early College Campus', 'Rose City High (Continuation)', 'Roselawn High', 'Rosemead High', 'Rosemont High', 'Roseville High', 'Round Valley Continuation', 'Round Valley High', 'Roy A. Johnson High', 'Royal High', 'Ruben S. Ayala High', 'Ruben Salazar Continuation', 'Rubidoux High', 'Rudsdale Continuation High', 'Russell Westbrook Why Not? High', 'Sacramento Charter High', 'Sacramento County ROP', 'Sage Creek High', 'Saint Helena High', 'Salinas High', 'Salisbury High (Continuation)', 'Sam Webb Continuation', 'San Andreas Continuation High', 'San Antonio Continuation', 'San Antonio High (Continuation)', 'San Benito High', 'San Bernardino County ROP', 'San Bernardino High', 'San Clemente High', 'San Diego Business/Leadership', 'San Diego County ROP', 'San Diego International Studies', 'San Diego Metro Career and Tech', 'San Diego Science and Technology', 'San Diego Workforce Innovation High', 'San Dieguito HS Academy', 'San Dimas High', 'San Fernando Senior High', 'San Gabriel High', 'San Gabriel Valley Regional Occupational Program', 'San Gorgonio High', 'San Jacinto High', 'San Joaquin High (Continuation)', 'San Jose High', 'San Jose Valley Continuation High', 'San Juan High', 'San Juan Hills High', 'San Leandro High', 'San Lorenzo High', 'San Lorenzo Valley High', 'San Luis High (Continuation)', 'San Luis Obispo High', 'San Marcos High', 'San Marcos Senior High', 'San Marin High', 'San Marino High', 'San Mateo High', 'San Pasqual Academy', 'San Pasqual High', 'San Pasqual Valley High', 'San Pedro Senior High', 'San Rafael High', 'San Ramon Valley High', 'San Ysidro High', 'Sanger High', 'Sanhedrin Alternative', 'Santa Ana High', 'Santa Barbara County ROP-South', 'Santa Barbara Senior High', 'Santa Clara High', 'Santa Cruz High', 'Santa Fe High', 'Santa Maria High', 'Santa Monica High', 'Santa Paula High', 'Santa Rosa High', 'Santa Susana High', 'Santa Teresa High', 'Santa Ynez Valley Union High', 'Santana High', 'Santana High (Continuation)', 'Santee Education Complex', 'Santiago High', 'Santiago High', 'Saratoga High', 'Saugus High', 'Savanna High', 'School for Entrepreneurship and Technology', 'School for the Visual Arts and Humanities', 'School of Business and Tourism at Contreras Learning Complex', 'School of Unlimited Learning', 'Schurr High', 'Sci Tech Engr Arts and Math at Legacy High Sch Complex', 'Scott River High', 'Scotts Valley High', 'Scripps Ranch High', 'Seaside High', 'Segerstrom High', 'Selma High', 'Sentinel High', 'Sequoia High', 'Sequoia High', 'Sequoia High', 'Serrano High', 'Shadow Hills High', 'Shafter High', 'Shandon High', 'Shasta Charter Academy', 'Shasta Collegiate Academy', 'Shasta High', 'Sheldon High', 'Sherman Thomas Charter High', 'Shery (Kurt T.) High (Continuation)', 'Shoshone High (Continuation)', 'Sierra Academy of Expeditionary Learning', 'Sierra Alternative High', 'Sierra Alternative Learning Academy', 'Sierra High', 'Sierra High', 'Sierra High', 'Sierra High', 'Sierra High', 'Sierra High (Continuation)', 'Sierra Madre High (Continuation)', 'Sierra Pacific High', 'Sierra Pass (Continuation)', 'Sierra Vista Charter High', 'Sierra Vista High', 'Sierra Vista High (Alternative)', 'Sierra Vista High (Continuation)', 'Silver Creek High', 'Silver Springs High (Continuation)', 'Silver Valley Community Day', 'Silver Valley High', 'Silverado High', 'Silverado High', 'Simi Valley High', 'Simon Rodia Continuation', 'Siskiyou County ROP', 'Six Rivers Charter High', 'Skyline High', 'Slover Mountain High (Continuation)', 'SOAR High (Students On Academic Rise)', 'Soc Just Leadership Acad at Esteban E. Torres High #5', 'Soldier Mountain High (Continuation)', 'Soledad High', 'Sonoma Mountain High (Continuation)', 'Sonoma Valley High', 'Sonora High', 'Sonora High', 'Soquel High', 'South Coast Continuation', 'South East High', 'South El Monte High', 'South Fork High', 'South Fork High', 'South Gate Senior High', 'South High', 'South High', 'South Hills High', 'South Pasadena Senior High', 'South San Francisco High', 'South Tahoe High', 'South Valley High (Continuation)', 'Southern Trinity High', 'Southwest High', 'Southwest Senior High', 'Spring Hill High (Continuation)', 'Stagg Senior High', 'Stanislaus Alternative Charter', 'Stanislaus Military Academy at Teel', 'Steele Canyon High', 'STEM Academy at Bernstein High', 'Stockdale High', 'Stockton Early College Academy', 'Stockton High', 'Stoney Point Continuation', 'Strathmore High', 'Street Academy Alternative High', 'Success One!', 'Sultana High', 'Summerville High', 'Summit High', 'Summit High (Continuation)', 'Summit Preparatory Charter High', 'Summit Public School: Shasta', 'Summit Public School: Tahoma', 'Sunny Hills High', 'Sunnyside High', 'Sunrise High (Continuation)', 'Sunset High', 'Sunset High (Continuation)', 'Surfside High (Continuation)', 'Susan Miller Dorsey Senior High', 'Sutter High', 'Sweetwater High', 'Sylmar Biotech Health and Engineering Magnet', 'Sylmar Charter High', 'Synergy Quantum Academy', 'T.I.M.E. Community', 'Taft Charter High', 'Taft Union High', 'Tahoe Truckee High', 'Tahquitz High', 'Tamalpais High', 'Tamiscal High (Alternative)', 'TEACH Tech Charter High', 'Technology High', 'Tehachapi High', 'Temecula Valley High', 'Temescal Canyon High', 'Temple City High', 'Templeton High', 'Templeton Independent Study High', 'Tennyson High', 'Terra Linda High', 'Terra Nova High', 'Tesoro High', 'The Education Corps', 'The High School at Moorpark College', 'The MET', 'Theodore Bird High', 'Theodore Roosevelt Senior High', 'Thomas Downey High', 'Thomas Jefferson Senior High', 'Thornton High', 'Thousand Oaks High', 'Tide Academy', 'Tierra Del Sol Continuation High', 'Tioga High', 'Tokay High', 'Tomales High', 'Torrance High', 'Torrey Pines High', 'Trabuco Hills High', 'TRACE', 'Tracy (Wilbur) High (Continuation)', 'Tracy High', 'Tranquillity High', 'Travis Education Center', 'Tri-Cities ROP', 'Tri-County ROP', 'Tri-Valley ROP', 'Trinity High', 'Troy High', 'Tulare Technical Preparatory High', 'Tulare Union High', 'Tulare Western High', 'Turlock High', 'Tustin High', 'Twelve Bridges High', 'Twentynine Palms High', 'Twin Oaks High', 'Twin Palms Continuation', 'Ukiah High', 'Ulysses S. Grant Senior High', 'Union Mine High', 'Unity Middle College High', 'University City High', 'University High', 'University High', 'University High School Charter', 'University Pathways Medical Magnet Academy', 'University Pathways Public Service Academy', 'University Preparatory High', 'University Preparatory Value High', 'Upland High', 'Upper Lake Community Day', 'Upper Lake High', 'Urban Corps of San Diego County Charter', 'Vacaville High', 'Vail High (Continuation)', 'Val Verde High', 'Valencia High', 'Valencia High', 'Valhalla High', 'Vallecito Continuation High', 'Vallejo High', 'Valley Academy of Arts and Sciences', 'Valley Alternative High (Continuation)', 'Valley Center High', 'Valley College High', 'Valley High', 'Valley High', 'Valley High', 'Valley High', 'Valley High (Continuation)', 'Valley High (Continuation)', 'Valley International Preparatory High', 'Valley Oak Continuation High', 'Valley ROP', 'Valley View High', 'Valley View High (Continuation)', 'Valley Vista High (Continuation)', 'Valor Academy High', 'Van Nuys Senior High', 'Vanden High', 'Vasquez High', 'Venice Senior High', 'Ventura High', 'Verdugo Hills Senior High', 'Vicente Martinez High', 'Victor Valley High', 'Victory High', 'View Park Continuation', 'Villa Park High', 'Village Academy High School at Indian Hill', 'Village High', 'Village Oaks High', 'Vintage High', 'Visalia Technical Early College', 'Vista Continuation High', 'Vista del Lago High', 'Vista del Lago High', 'Vista High', 'Vista High', 'Vista High (Continuation)', 'Vista Murrieta High', 'Vista Nueva Career and Technology High', 'Vista Real Charter High', 'Vista West Continuation High', 'Visual and Performing Arts at Legacy High School Complex', 'Wallenberg (Raoul) Traditional High', 'Wallis Annenberg High', 'Walnut High', 'Warner High', 'Warren (Earl) High', 'Wasco High', 'Wasco Independence High', 'Washington (George) High', 'Washington High', 'Washington High', 'Washington Middle College High', 'Waterford High', 'Watsonville High', 'We the People High', 'Weber Institute', 'Weed High', 'Wells (Ida B.) High', 'WESM Health/Sports Medicine', 'West Adams Preparatory High', 'West Campus', 'West County High', 'West Covina High', 'West High', 'West High', 'West Hills High', 'West Park High', 'West Ranch High', 'West Side Valley High (Continuation)', 'West Valley Early College High', 'West Valley High', 'Western High', 'Westlake High', 'Westminster High', 'Westmont High', 'Westmoor High', 'Weston Ranch High', 'Westside High', 'Westview High', 'Whale Gulch High', 'Wheatland Union High', 'Whitcomb Continuation High', 'Whitman Continuation', 'Whitmore Charter High', 'Whitney High', 'Whitney Young Continuation', 'Whittier High', 'Will C. Wood High', 'Will Rogers Continuation', 'William & Marian Ghidotti High', 'William C. Overfelt High', 'William J. (Pete) Knight High', 'William S. Hart High', 'William Workman High', 'Willits High', 'Willow Glen High', 'Willow High', 'Willows High', 'Wilmer Amina Carter High', 'Wilson High', 'Windsor High', 'Windsor Oaks Academy', 'Winters High', 'WISH Academy High', 'Wolfskill High', 'Woodbridge High', 'Woodcreek High', 'Woodlake High', 'Woodland Senior High', 'Woodrow Wilson Senior High', 'Woodside High', 'Yerba Buena High', 'Ygnacio Valley High', 'Yolo County ROP', 'Yolo High', 'Yorba Linda High', 'Yosemite High', 'Yosemite High (Continuation)', 'Yosemite Park High', 'Young Adult Program', 'Youth Opportunities Unlimited', 'YouthBuild Charter School of California', 'Yreka High', 'Yuba City High', 'Yucaipa High', 'Yucca Valley High', 'Zane Grey Continuation', 'Zupanic High']\n"
          ]
        },
        {
          "output_type": "execute_result",
          "data": {
            "text/plain": [
              "1732"
            ]
          },
          "metadata": {},
          "execution_count": 3
        }
      ]
    },
    {
      "cell_type": "markdown",
      "source": [
        "Insert scraping for links:"
      ],
      "metadata": {
        "id": "4PdMko1T-yRg"
      }
    },
    {
      "cell_type": "markdown",
      "source": [
        "FOR FIVER: THIS IS WHERE THE ISSUE LIES: "
      ],
      "metadata": {
        "id": "XmPkpxas7Ke0"
      }
    },
    {
      "cell_type": "code",
      "source": [
        "list_names_test_link_list = []\n",
        "\n",
        "for i in list_names_test:\n",
        "  try:\n",
        "    search = i + \" \" + \"California\"\n",
        "    url = 'https://www.google.com/search'\n",
        "\n",
        "    headers = {\n",
        "      'Accept' : '*/*',\n",
        "      'Accept-Language': 'en-US,en;q=0.5',\n",
        "      'User-Agent': 'Mozilla/5.0 (Windows NT 10.0; Win64; x64) AppleWebKit/537.36 (KHTML, like Gecko) Chrome/98.0.4758.82',\n",
        "    }\n",
        "    parameters = {'q': search}\n",
        "\n",
        "    content = requests.get(url, headers = headers, params = parameters).text\n",
        "    soup = BeautifulSoup(content, 'html.parser')\n",
        "\n",
        "    search = soup.find(id = 'search')\n",
        "    first_link = search.find('a')\n",
        "\n",
        "    # aktivierung dieser Zeile bringt die Links one by one, aber ziel jetzt in\n",
        "    # liste zum iterieren\n",
        "    # print(first_link['href'])\n",
        "\n",
        "    list_names_test_link_list.append(first_link['href'])\n",
        "  \n",
        "  # If crashes, just add empty string or list\n",
        "  except:\n",
        "    list_names_test_link_list.append([\"\"])    \n",
        "\n",
        "# print(list_names_test_link_list).len()"
      ],
      "metadata": {
        "id": "hT2yxXO-_Sr_"
      },
      "execution_count": null,
      "outputs": []
    },
    {
      "cell_type": "code",
      "source": [
        "print(len(list_names_test_link_list))"
      ],
      "metadata": {
        "colab": {
          "base_uri": "https://localhost:8080/"
        },
        "id": "8jrxGCO5ba0s",
        "outputId": "54b512a6-8089-42b9-9c1f-91cf7b9f7957"
      },
      "execution_count": null,
      "outputs": [
        {
          "output_type": "stream",
          "name": "stdout",
          "text": [
            "1732\n"
          ]
        }
      ]
    },
    {
      "cell_type": "code",
      "source": [
        "import pandas as pd\n",
        "df1 = pd.DataFrame(list_names_test_link_list, columns=[\"colummn\"])\n",
        "df1.to_csv('all 1732 links successfull export as csv.csv', index=False)"
      ],
      "metadata": {
        "id": "MZpv2xA0ezxA"
      },
      "execution_count": null,
      "outputs": []
    },
    {
      "cell_type": "markdown",
      "source": [
        "Okay, so I successdully exportet all lists as a csv file - It should be in the CheckGPT folder as all 1732 lists exported"
      ],
      "metadata": {
        "id": "R1iFdat0fA2Q"
      }
    },
    {
      "cell_type": "code",
      "source": [
        "# instead of using listwikicasmalllist like in the initial wikiscript,\n",
        "# we are defining that list first:\n",
        "\n",
        "# INSERT LIST NAME HERE\n",
        "URL_list = list_names_test_link_list\n",
        "emails_list = []\n",
        "for URL in URL_list:\n",
        "  page = requests.get(URL)\n",
        "  soup = BeautifulSoup(page.content, \"html.parser\")\n",
        "  text=str(soup)\n",
        "# print(text)\n",
        "  \n",
        "  \"\"\"\n",
        "  bulkphone = text\n",
        "  r = re.compile(\".*?(\\(?\\d{3}\\D{0,3}\\d{3}\\D{0,3}\\d{4}).*?\", re.S)\n",
        "  results = r.findall(bulkphone)\n",
        "  phones = \"\"\n",
        "  for x in results:\n",
        "          phones += str(x)+\"\\n\"\n",
        "  phones = phones.splitlines()\n",
        "  open = \"(\"\n",
        "  close = \")\"\n",
        "  phones = [i for i in phones if open and close in i]\n",
        "  print(phones)\n",
        "  \"\"\"\n",
        "\n",
        "  bulkemails = text\n",
        "  r = re.compile(r'(\\b[\\w.]+@+[\\w.]+.+[\\w.]\\b)')\n",
        "  #r = re.compile(?:[a-z0-9!#$%&'*+/=?^_`{|}~-]+(?:\\.[a-z0-9!#$%&'*+/=?^_`{|}~-]+)*|\"(?:[\\x01-\\x08\\x0b\\x0c\\x0e-\\x1f\\x21\\x23-\\x5b\\x5d-\\x7f]|\\\\[\\x01-\\x09\\x0b\\x0c\\x0e-\\x7f])*\")@(?:(?:[a-z0-9](?:[a-z0-9-]*[a-z0-9])?\\.)+[a-z0-9](?:[a-z0-9-]*[a-z0-9])?|\\[(?:(?:(2(5[0-5]|[0-4][0-9])|1[0-9][0-9]|[1-9]?[0-9]))\\.){3}(?:(2(5[0-5]|[0-4][0-9])|1[0-9][0-9]|[1-9]?[0-9])|[a-z0-9-]*[a-z0-9]:(?:[\\x01-\\x08\\x0b\\x0c\\x0e-\\x1f\\x21-\\x5a\\x53-\\x7f]|\\\\[\\x01-\\x09\\x0b\\x0c\\x0e-\\x7f])+)\\])\n",
        "      \n",
        "  results = r.findall(bulkemails)\n",
        "  emails = \"\"\n",
        "  for x in results:\n",
        "          emails += str(x)+\"\\n\"\n",
        "  emails = emails.split()\n",
        "  # print(emails)\n",
        "  subsetmail = \"@\"\n",
        "  emails = [i for i in emails if subsetmail in i]\n",
        "  notemail = \"<\"\n",
        "  emails = [i for i in emails if notemail not in i]\n",
        "  emails = [i.replace('href', '')\n",
        "  .replace(' ', '').replace('\"','').replace(\"'\",'').replace('=','') for i in emails]\n",
        "  \n",
        "  # Further cleaning\n",
        "  calendar = \"calendar\"\n",
        "  emails = [i for i in emails if calendar not in i]\n",
        "  amp = \"amp\"\n",
        "  emails = [i for i in emails if amp not in i]\n",
        "  context = \"context\"\n",
        "  emails = [i for i in emails if context not in i]\n",
        "  title = \"title\"\n",
        "  emails = [i for i in emails if title not in i]\n",
        "  round_bracket = \"(\"\n",
        "  emails = [i for i in emails if round_bracket not in i]\n",
        "  curly_bracket = \"{\"\n",
        "  emails = [i for i in emails if curly_bracket not in i]\n",
        "  print(emails)\n",
        "  #emails_list.append(emails)\n",
        "\n",
        "\n"
      ],
      "metadata": {
        "id": "L0aBJiob_SnH",
        "colab": {
          "base_uri": "https://localhost:8080/",
          "height": 411
        },
        "outputId": "651003c4-e55d-44b9-a7d2-160b1e61e122"
      },
      "execution_count": null,
      "outputs": [
        {
          "output_type": "error",
          "ename": "TooManyRedirects",
          "evalue": "ignored",
          "traceback": [
            "\u001b[0;31m---------------------------------------------------------------------------\u001b[0m",
            "\u001b[0;31mTooManyRedirects\u001b[0m                          Traceback (most recent call last)",
            "\u001b[0;32m<ipython-input-12-f0c9b77b0956>\u001b[0m in \u001b[0;36m<module>\u001b[0;34m\u001b[0m\n\u001b[1;32m      6\u001b[0m \u001b[0memails_list\u001b[0m \u001b[0;34m=\u001b[0m \u001b[0;34m[\u001b[0m\u001b[0;34m]\u001b[0m\u001b[0;34m\u001b[0m\u001b[0;34m\u001b[0m\u001b[0m\n\u001b[1;32m      7\u001b[0m \u001b[0;32mfor\u001b[0m \u001b[0mURL\u001b[0m \u001b[0;32min\u001b[0m \u001b[0mURL_list\u001b[0m\u001b[0;34m:\u001b[0m\u001b[0;34m\u001b[0m\u001b[0;34m\u001b[0m\u001b[0m\n\u001b[0;32m----> 8\u001b[0;31m   \u001b[0mpage\u001b[0m \u001b[0;34m=\u001b[0m \u001b[0mrequests\u001b[0m\u001b[0;34m.\u001b[0m\u001b[0mget\u001b[0m\u001b[0;34m(\u001b[0m\u001b[0mURL\u001b[0m\u001b[0;34m)\u001b[0m\u001b[0;34m\u001b[0m\u001b[0;34m\u001b[0m\u001b[0m\n\u001b[0m\u001b[1;32m      9\u001b[0m   \u001b[0msoup\u001b[0m \u001b[0;34m=\u001b[0m \u001b[0mBeautifulSoup\u001b[0m\u001b[0;34m(\u001b[0m\u001b[0mpage\u001b[0m\u001b[0;34m.\u001b[0m\u001b[0mcontent\u001b[0m\u001b[0;34m,\u001b[0m \u001b[0;34m\"html.parser\"\u001b[0m\u001b[0;34m)\u001b[0m\u001b[0;34m\u001b[0m\u001b[0;34m\u001b[0m\u001b[0m\n\u001b[1;32m     10\u001b[0m   \u001b[0mtext\u001b[0m\u001b[0;34m=\u001b[0m\u001b[0mstr\u001b[0m\u001b[0;34m(\u001b[0m\u001b[0msoup\u001b[0m\u001b[0;34m)\u001b[0m\u001b[0;34m\u001b[0m\u001b[0;34m\u001b[0m\u001b[0m\n",
            "\u001b[0;32m/usr/local/lib/python3.8/dist-packages/requests/api.py\u001b[0m in \u001b[0;36mget\u001b[0;34m(url, params, **kwargs)\u001b[0m\n\u001b[1;32m     74\u001b[0m \u001b[0;34m\u001b[0m\u001b[0m\n\u001b[1;32m     75\u001b[0m     \u001b[0mkwargs\u001b[0m\u001b[0;34m.\u001b[0m\u001b[0msetdefault\u001b[0m\u001b[0;34m(\u001b[0m\u001b[0;34m'allow_redirects'\u001b[0m\u001b[0;34m,\u001b[0m \u001b[0;32mTrue\u001b[0m\u001b[0;34m)\u001b[0m\u001b[0;34m\u001b[0m\u001b[0;34m\u001b[0m\u001b[0m\n\u001b[0;32m---> 76\u001b[0;31m     \u001b[0;32mreturn\u001b[0m \u001b[0mrequest\u001b[0m\u001b[0;34m(\u001b[0m\u001b[0;34m'get'\u001b[0m\u001b[0;34m,\u001b[0m \u001b[0murl\u001b[0m\u001b[0;34m,\u001b[0m \u001b[0mparams\u001b[0m\u001b[0;34m=\u001b[0m\u001b[0mparams\u001b[0m\u001b[0;34m,\u001b[0m \u001b[0;34m**\u001b[0m\u001b[0mkwargs\u001b[0m\u001b[0;34m)\u001b[0m\u001b[0;34m\u001b[0m\u001b[0;34m\u001b[0m\u001b[0m\n\u001b[0m\u001b[1;32m     77\u001b[0m \u001b[0;34m\u001b[0m\u001b[0m\n\u001b[1;32m     78\u001b[0m \u001b[0;34m\u001b[0m\u001b[0m\n",
            "\u001b[0;32m/usr/local/lib/python3.8/dist-packages/requests/api.py\u001b[0m in \u001b[0;36mrequest\u001b[0;34m(method, url, **kwargs)\u001b[0m\n\u001b[1;32m     59\u001b[0m     \u001b[0;31m# cases, and look like a memory leak in others.\u001b[0m\u001b[0;34m\u001b[0m\u001b[0;34m\u001b[0m\u001b[0;34m\u001b[0m\u001b[0m\n\u001b[1;32m     60\u001b[0m     \u001b[0;32mwith\u001b[0m \u001b[0msessions\u001b[0m\u001b[0;34m.\u001b[0m\u001b[0mSession\u001b[0m\u001b[0;34m(\u001b[0m\u001b[0;34m)\u001b[0m \u001b[0;32mas\u001b[0m \u001b[0msession\u001b[0m\u001b[0;34m:\u001b[0m\u001b[0;34m\u001b[0m\u001b[0;34m\u001b[0m\u001b[0m\n\u001b[0;32m---> 61\u001b[0;31m         \u001b[0;32mreturn\u001b[0m \u001b[0msession\u001b[0m\u001b[0;34m.\u001b[0m\u001b[0mrequest\u001b[0m\u001b[0;34m(\u001b[0m\u001b[0mmethod\u001b[0m\u001b[0;34m=\u001b[0m\u001b[0mmethod\u001b[0m\u001b[0;34m,\u001b[0m \u001b[0murl\u001b[0m\u001b[0;34m=\u001b[0m\u001b[0murl\u001b[0m\u001b[0;34m,\u001b[0m \u001b[0;34m**\u001b[0m\u001b[0mkwargs\u001b[0m\u001b[0;34m)\u001b[0m\u001b[0;34m\u001b[0m\u001b[0;34m\u001b[0m\u001b[0m\n\u001b[0m\u001b[1;32m     62\u001b[0m \u001b[0;34m\u001b[0m\u001b[0m\n\u001b[1;32m     63\u001b[0m \u001b[0;34m\u001b[0m\u001b[0m\n",
            "\u001b[0;32m/usr/local/lib/python3.8/dist-packages/requests/sessions.py\u001b[0m in \u001b[0;36mrequest\u001b[0;34m(self, method, url, params, data, headers, cookies, files, auth, timeout, allow_redirects, proxies, hooks, stream, verify, cert, json)\u001b[0m\n\u001b[1;32m    540\u001b[0m         }\n\u001b[1;32m    541\u001b[0m         \u001b[0msend_kwargs\u001b[0m\u001b[0;34m.\u001b[0m\u001b[0mupdate\u001b[0m\u001b[0;34m(\u001b[0m\u001b[0msettings\u001b[0m\u001b[0;34m)\u001b[0m\u001b[0;34m\u001b[0m\u001b[0;34m\u001b[0m\u001b[0m\n\u001b[0;32m--> 542\u001b[0;31m         \u001b[0mresp\u001b[0m \u001b[0;34m=\u001b[0m \u001b[0mself\u001b[0m\u001b[0;34m.\u001b[0m\u001b[0msend\u001b[0m\u001b[0;34m(\u001b[0m\u001b[0mprep\u001b[0m\u001b[0;34m,\u001b[0m \u001b[0;34m**\u001b[0m\u001b[0msend_kwargs\u001b[0m\u001b[0;34m)\u001b[0m\u001b[0;34m\u001b[0m\u001b[0;34m\u001b[0m\u001b[0m\n\u001b[0m\u001b[1;32m    543\u001b[0m \u001b[0;34m\u001b[0m\u001b[0m\n\u001b[1;32m    544\u001b[0m         \u001b[0;32mreturn\u001b[0m \u001b[0mresp\u001b[0m\u001b[0;34m\u001b[0m\u001b[0;34m\u001b[0m\u001b[0m\n",
            "\u001b[0;32m/usr/local/lib/python3.8/dist-packages/requests/sessions.py\u001b[0m in \u001b[0;36msend\u001b[0;34m(self, request, **kwargs)\u001b[0m\n\u001b[1;32m    675\u001b[0m             \u001b[0;31m# Redirect resolving generator.\u001b[0m\u001b[0;34m\u001b[0m\u001b[0;34m\u001b[0m\u001b[0;34m\u001b[0m\u001b[0m\n\u001b[1;32m    676\u001b[0m             \u001b[0mgen\u001b[0m \u001b[0;34m=\u001b[0m \u001b[0mself\u001b[0m\u001b[0;34m.\u001b[0m\u001b[0mresolve_redirects\u001b[0m\u001b[0;34m(\u001b[0m\u001b[0mr\u001b[0m\u001b[0;34m,\u001b[0m \u001b[0mrequest\u001b[0m\u001b[0;34m,\u001b[0m \u001b[0;34m**\u001b[0m\u001b[0mkwargs\u001b[0m\u001b[0;34m)\u001b[0m\u001b[0;34m\u001b[0m\u001b[0;34m\u001b[0m\u001b[0m\n\u001b[0;32m--> 677\u001b[0;31m             \u001b[0mhistory\u001b[0m \u001b[0;34m=\u001b[0m \u001b[0;34m[\u001b[0m\u001b[0mresp\u001b[0m \u001b[0;32mfor\u001b[0m \u001b[0mresp\u001b[0m \u001b[0;32min\u001b[0m \u001b[0mgen\u001b[0m\u001b[0;34m]\u001b[0m\u001b[0;34m\u001b[0m\u001b[0;34m\u001b[0m\u001b[0m\n\u001b[0m\u001b[1;32m    678\u001b[0m         \u001b[0;32melse\u001b[0m\u001b[0;34m:\u001b[0m\u001b[0;34m\u001b[0m\u001b[0;34m\u001b[0m\u001b[0m\n\u001b[1;32m    679\u001b[0m             \u001b[0mhistory\u001b[0m \u001b[0;34m=\u001b[0m \u001b[0;34m[\u001b[0m\u001b[0;34m]\u001b[0m\u001b[0;34m\u001b[0m\u001b[0;34m\u001b[0m\u001b[0m\n",
            "\u001b[0;32m/usr/local/lib/python3.8/dist-packages/requests/sessions.py\u001b[0m in \u001b[0;36m<listcomp>\u001b[0;34m(.0)\u001b[0m\n\u001b[1;32m    675\u001b[0m             \u001b[0;31m# Redirect resolving generator.\u001b[0m\u001b[0;34m\u001b[0m\u001b[0;34m\u001b[0m\u001b[0;34m\u001b[0m\u001b[0m\n\u001b[1;32m    676\u001b[0m             \u001b[0mgen\u001b[0m \u001b[0;34m=\u001b[0m \u001b[0mself\u001b[0m\u001b[0;34m.\u001b[0m\u001b[0mresolve_redirects\u001b[0m\u001b[0;34m(\u001b[0m\u001b[0mr\u001b[0m\u001b[0;34m,\u001b[0m \u001b[0mrequest\u001b[0m\u001b[0;34m,\u001b[0m \u001b[0;34m**\u001b[0m\u001b[0mkwargs\u001b[0m\u001b[0;34m)\u001b[0m\u001b[0;34m\u001b[0m\u001b[0;34m\u001b[0m\u001b[0m\n\u001b[0;32m--> 677\u001b[0;31m             \u001b[0mhistory\u001b[0m \u001b[0;34m=\u001b[0m \u001b[0;34m[\u001b[0m\u001b[0mresp\u001b[0m \u001b[0;32mfor\u001b[0m \u001b[0mresp\u001b[0m \u001b[0;32min\u001b[0m \u001b[0mgen\u001b[0m\u001b[0;34m]\u001b[0m\u001b[0;34m\u001b[0m\u001b[0;34m\u001b[0m\u001b[0m\n\u001b[0m\u001b[1;32m    678\u001b[0m         \u001b[0;32melse\u001b[0m\u001b[0;34m:\u001b[0m\u001b[0;34m\u001b[0m\u001b[0;34m\u001b[0m\u001b[0m\n\u001b[1;32m    679\u001b[0m             \u001b[0mhistory\u001b[0m \u001b[0;34m=\u001b[0m \u001b[0;34m[\u001b[0m\u001b[0;34m]\u001b[0m\u001b[0;34m\u001b[0m\u001b[0;34m\u001b[0m\u001b[0m\n",
            "\u001b[0;32m/usr/local/lib/python3.8/dist-packages/requests/sessions.py\u001b[0m in \u001b[0;36mresolve_redirects\u001b[0;34m(self, resp, req, stream, timeout, verify, cert, proxies, yield_requests, **adapter_kwargs)\u001b[0m\n\u001b[1;32m    164\u001b[0m \u001b[0;34m\u001b[0m\u001b[0m\n\u001b[1;32m    165\u001b[0m             \u001b[0;32mif\u001b[0m \u001b[0mlen\u001b[0m\u001b[0;34m(\u001b[0m\u001b[0mresp\u001b[0m\u001b[0;34m.\u001b[0m\u001b[0mhistory\u001b[0m\u001b[0;34m)\u001b[0m \u001b[0;34m>=\u001b[0m \u001b[0mself\u001b[0m\u001b[0;34m.\u001b[0m\u001b[0mmax_redirects\u001b[0m\u001b[0;34m:\u001b[0m\u001b[0;34m\u001b[0m\u001b[0;34m\u001b[0m\u001b[0m\n\u001b[0;32m--> 166\u001b[0;31m                 \u001b[0;32mraise\u001b[0m \u001b[0mTooManyRedirects\u001b[0m\u001b[0;34m(\u001b[0m\u001b[0;34m'Exceeded {} redirects.'\u001b[0m\u001b[0;34m.\u001b[0m\u001b[0mformat\u001b[0m\u001b[0;34m(\u001b[0m\u001b[0mself\u001b[0m\u001b[0;34m.\u001b[0m\u001b[0mmax_redirects\u001b[0m\u001b[0;34m)\u001b[0m\u001b[0;34m,\u001b[0m \u001b[0mresponse\u001b[0m\u001b[0;34m=\u001b[0m\u001b[0mresp\u001b[0m\u001b[0;34m)\u001b[0m\u001b[0;34m\u001b[0m\u001b[0;34m\u001b[0m\u001b[0m\n\u001b[0m\u001b[1;32m    167\u001b[0m \u001b[0;34m\u001b[0m\u001b[0m\n\u001b[1;32m    168\u001b[0m             \u001b[0;31m# Release the connection back into the pool.\u001b[0m\u001b[0;34m\u001b[0m\u001b[0;34m\u001b[0m\u001b[0;34m\u001b[0m\u001b[0m\n",
            "\u001b[0;31mTooManyRedirects\u001b[0m: Exceeded 30 redirects."
          ]
        }
      ]
    },
    {
      "cell_type": "code",
      "source": [
        "import csv\n",
        "file_email_test = open(\"file_email_test.csv\", \"w\", newline =\"\")\n",
        "with file_email_test:\n",
        "  w = csv.writer(file_email_test)\n",
        "  w.writerows(emails)"
      ],
      "metadata": {
        "id": "9yS_Z4CT_Sjw"
      },
      "execution_count": null,
      "outputs": []
    },
    {
      "cell_type": "code",
      "source": [],
      "metadata": {
        "id": "Y7xMa0pZ_SdG"
      },
      "execution_count": null,
      "outputs": []
    },
    {
      "cell_type": "code",
      "source": [],
      "metadata": {
        "id": "0uU4JBZZ_SPT"
      },
      "execution_count": null,
      "outputs": []
    },
    {
      "cell_type": "code",
      "source": [
        "# Test if you could add that\n",
        "\n",
        "df_len = df[\"District\"].str.len()\n",
        "df[\"District Length\"] = df_len\n",
        "df.head(1)"
      ],
      "metadata": {
        "colab": {
          "base_uri": "https://localhost:8080/",
          "height": 260
        },
        "id": "6Bd7fHGm6kiI",
        "outputId": "3afd2f0c-38d1-4ab6-8236-d3444560773f"
      },
      "execution_count": null,
      "outputs": [
        {
          "output_type": "execute_result",
          "data": {
            "text/plain": [
              "   NCES School ID     State School ID  NCES District ID State District ID  \\\n",
              "0     63315005148  CA-3367215-3336955            633150        CA-3367215   \n",
              "\n",
              "   Low Grade*  High Grade*                   School Name           District  \\\n",
              "0           9           12  Abraham Lincoln Continuation  Riverside Unified   \n",
              "\n",
              "       Street Address       City  ... Charter  Magnet*  Title I School*  \\\n",
              "0  4341 Victoria Ave.  Riverside  ...      No        –                –   \n",
              "\n",
              "  Title 1 School Wide* Students* Teachers* Student Teacher Ratio* Free Lunch*  \\\n",
              "0                    –     174.0  13.00000             13.4000000   148.00000   \n",
              "\n",
              "   Reduced Lunch* NCES Length  \n",
              "0        18.00000          17  \n",
              "\n",
              "[1 rows x 24 columns]"
            ],
            "text/html": [
              "\n",
              "  <div id=\"df-833ea648-d7e9-4dc9-82e0-9a9cd0606933\">\n",
              "    <div class=\"colab-df-container\">\n",
              "      <div>\n",
              "<style scoped>\n",
              "    .dataframe tbody tr th:only-of-type {\n",
              "        vertical-align: middle;\n",
              "    }\n",
              "\n",
              "    .dataframe tbody tr th {\n",
              "        vertical-align: top;\n",
              "    }\n",
              "\n",
              "    .dataframe thead th {\n",
              "        text-align: right;\n",
              "    }\n",
              "</style>\n",
              "<table border=\"1\" class=\"dataframe\">\n",
              "  <thead>\n",
              "    <tr style=\"text-align: right;\">\n",
              "      <th></th>\n",
              "      <th>NCES School ID</th>\n",
              "      <th>State School ID</th>\n",
              "      <th>NCES District ID</th>\n",
              "      <th>State District ID</th>\n",
              "      <th>Low Grade*</th>\n",
              "      <th>High Grade*</th>\n",
              "      <th>School Name</th>\n",
              "      <th>District</th>\n",
              "      <th>Street Address</th>\n",
              "      <th>City</th>\n",
              "      <th>...</th>\n",
              "      <th>Charter</th>\n",
              "      <th>Magnet*</th>\n",
              "      <th>Title I School*</th>\n",
              "      <th>Title 1 School Wide*</th>\n",
              "      <th>Students*</th>\n",
              "      <th>Teachers*</th>\n",
              "      <th>Student Teacher Ratio*</th>\n",
              "      <th>Free Lunch*</th>\n",
              "      <th>Reduced Lunch*</th>\n",
              "      <th>NCES Length</th>\n",
              "    </tr>\n",
              "  </thead>\n",
              "  <tbody>\n",
              "    <tr>\n",
              "      <th>0</th>\n",
              "      <td>63315005148</td>\n",
              "      <td>CA-3367215-3336955</td>\n",
              "      <td>633150</td>\n",
              "      <td>CA-3367215</td>\n",
              "      <td>9</td>\n",
              "      <td>12</td>\n",
              "      <td>Abraham Lincoln Continuation</td>\n",
              "      <td>Riverside Unified</td>\n",
              "      <td>4341 Victoria Ave.</td>\n",
              "      <td>Riverside</td>\n",
              "      <td>...</td>\n",
              "      <td>No</td>\n",
              "      <td>–</td>\n",
              "      <td>–</td>\n",
              "      <td>–</td>\n",
              "      <td>174.0</td>\n",
              "      <td>13.00000</td>\n",
              "      <td>13.4000000</td>\n",
              "      <td>148.00000</td>\n",
              "      <td>18.00000</td>\n",
              "      <td>17</td>\n",
              "    </tr>\n",
              "  </tbody>\n",
              "</table>\n",
              "<p>1 rows × 24 columns</p>\n",
              "</div>\n",
              "      <button class=\"colab-df-convert\" onclick=\"convertToInteractive('df-833ea648-d7e9-4dc9-82e0-9a9cd0606933')\"\n",
              "              title=\"Convert this dataframe to an interactive table.\"\n",
              "              style=\"display:none;\">\n",
              "        \n",
              "  <svg xmlns=\"http://www.w3.org/2000/svg\" height=\"24px\"viewBox=\"0 0 24 24\"\n",
              "       width=\"24px\">\n",
              "    <path d=\"M0 0h24v24H0V0z\" fill=\"none\"/>\n",
              "    <path d=\"M18.56 5.44l.94 2.06.94-2.06 2.06-.94-2.06-.94-.94-2.06-.94 2.06-2.06.94zm-11 1L8.5 8.5l.94-2.06 2.06-.94-2.06-.94L8.5 2.5l-.94 2.06-2.06.94zm10 10l.94 2.06.94-2.06 2.06-.94-2.06-.94-.94-2.06-.94 2.06-2.06.94z\"/><path d=\"M17.41 7.96l-1.37-1.37c-.4-.4-.92-.59-1.43-.59-.52 0-1.04.2-1.43.59L10.3 9.45l-7.72 7.72c-.78.78-.78 2.05 0 2.83L4 21.41c.39.39.9.59 1.41.59.51 0 1.02-.2 1.41-.59l7.78-7.78 2.81-2.81c.8-.78.8-2.07 0-2.86zM5.41 20L4 18.59l7.72-7.72 1.47 1.35L5.41 20z\"/>\n",
              "  </svg>\n",
              "      </button>\n",
              "      \n",
              "  <style>\n",
              "    .colab-df-container {\n",
              "      display:flex;\n",
              "      flex-wrap:wrap;\n",
              "      gap: 12px;\n",
              "    }\n",
              "\n",
              "    .colab-df-convert {\n",
              "      background-color: #E8F0FE;\n",
              "      border: none;\n",
              "      border-radius: 50%;\n",
              "      cursor: pointer;\n",
              "      display: none;\n",
              "      fill: #1967D2;\n",
              "      height: 32px;\n",
              "      padding: 0 0 0 0;\n",
              "      width: 32px;\n",
              "    }\n",
              "\n",
              "    .colab-df-convert:hover {\n",
              "      background-color: #E2EBFA;\n",
              "      box-shadow: 0px 1px 2px rgba(60, 64, 67, 0.3), 0px 1px 3px 1px rgba(60, 64, 67, 0.15);\n",
              "      fill: #174EA6;\n",
              "    }\n",
              "\n",
              "    [theme=dark] .colab-df-convert {\n",
              "      background-color: #3B4455;\n",
              "      fill: #D2E3FC;\n",
              "    }\n",
              "\n",
              "    [theme=dark] .colab-df-convert:hover {\n",
              "      background-color: #434B5C;\n",
              "      box-shadow: 0px 1px 3px 1px rgba(0, 0, 0, 0.15);\n",
              "      filter: drop-shadow(0px 1px 2px rgba(0, 0, 0, 0.3));\n",
              "      fill: #FFFFFF;\n",
              "    }\n",
              "  </style>\n",
              "\n",
              "      <script>\n",
              "        const buttonEl =\n",
              "          document.querySelector('#df-833ea648-d7e9-4dc9-82e0-9a9cd0606933 button.colab-df-convert');\n",
              "        buttonEl.style.display =\n",
              "          google.colab.kernel.accessAllowed ? 'block' : 'none';\n",
              "\n",
              "        async function convertToInteractive(key) {\n",
              "          const element = document.querySelector('#df-833ea648-d7e9-4dc9-82e0-9a9cd0606933');\n",
              "          const dataTable =\n",
              "            await google.colab.kernel.invokeFunction('convertToInteractive',\n",
              "                                                     [key], {});\n",
              "          if (!dataTable) return;\n",
              "\n",
              "          const docLinkHtml = 'Like what you see? Visit the ' +\n",
              "            '<a target=\"_blank\" href=https://colab.research.google.com/notebooks/data_table.ipynb>data table notebook</a>'\n",
              "            + ' to learn more about interactive tables.';\n",
              "          element.innerHTML = '';\n",
              "          dataTable['output_type'] = 'display_data';\n",
              "          await google.colab.output.renderOutput(dataTable, element);\n",
              "          const docLink = document.createElement('div');\n",
              "          docLink.innerHTML = docLinkHtml;\n",
              "          element.appendChild(docLink);\n",
              "        }\n",
              "      </script>\n",
              "    </div>\n",
              "  </div>\n",
              "  "
            ]
          },
          "metadata": {},
          "execution_count": 8
        }
      ]
    },
    {
      "cell_type": "code",
      "source": [
        "from pandas.core import aggregation\n",
        "# Pseudo code for dataframe: \n",
        "\n",
        "/ reduce sheet complexity\n",
        "extract the names first into series\n",
        "use them to find links\n",
        "use the links to find emails (and if not possiblel just return (n/a)\n",
        "attach them to the original sheet again\n",
        "reduce sheet \n"
      ],
      "metadata": {
        "id": "GQgMH8Z97KGe"
      },
      "execution_count": null,
      "outputs": []
    }
  ]
}